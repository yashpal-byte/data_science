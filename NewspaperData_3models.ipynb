{
  "nbformat": 4,
  "nbformat_minor": 0,
  "metadata": {
    "colab": {
      "name": "NewspaperData_3models.ipynb",
      "provenance": [],
      "collapsed_sections": [],
      "authorship_tag": "ABX9TyOmN30ZpwxojomcW5XEzsMQ",
      "include_colab_link": true
    },
    "kernelspec": {
      "name": "python3",
      "display_name": "Python 3"
    },
    "language_info": {
      "name": "python"
    }
  },
  "cells": [
    {
      "cell_type": "markdown",
      "metadata": {
        "id": "view-in-github",
        "colab_type": "text"
      },
      "source": [
        "<a href=\"https://colab.research.google.com/github/yashpal-byte/data_science/blob/main/NewspaperData_3models.ipynb\" target=\"_parent\"><img src=\"https://colab.research.google.com/assets/colab-badge.svg\" alt=\"Open In Colab\"/></a>"
      ]
    },
    {
      "cell_type": "code",
      "execution_count": 1,
      "metadata": {
        "id": "XeO1raVtARTa"
      },
      "outputs": [],
      "source": [
        "import pandas as pd\n",
        "import numpy as np"
      ]
    },
    {
      "cell_type": "code",
      "source": [
        "df = pd.read_csv('NewspaperData.csv')\n",
        "df.head()"
      ],
      "metadata": {
        "colab": {
          "base_uri": "https://localhost:8080/",
          "height": 206
        },
        "id": "BDyF8D-WLEfe",
        "outputId": "e235a3c3-4be0-4dd0-9ee1-1faac8f24b7a"
      },
      "execution_count": 2,
      "outputs": [
        {
          "output_type": "execute_result",
          "data": {
            "text/html": [
              "\n",
              "  <div id=\"df-8d4c24da-2ec3-47b5-b977-6fd3b58b2bca\">\n",
              "    <div class=\"colab-df-container\">\n",
              "      <div>\n",
              "<style scoped>\n",
              "    .dataframe tbody tr th:only-of-type {\n",
              "        vertical-align: middle;\n",
              "    }\n",
              "\n",
              "    .dataframe tbody tr th {\n",
              "        vertical-align: top;\n",
              "    }\n",
              "\n",
              "    .dataframe thead th {\n",
              "        text-align: right;\n",
              "    }\n",
              "</style>\n",
              "<table border=\"1\" class=\"dataframe\">\n",
              "  <thead>\n",
              "    <tr style=\"text-align: right;\">\n",
              "      <th></th>\n",
              "      <th>Newspaper</th>\n",
              "      <th>daily</th>\n",
              "      <th>sunday</th>\n",
              "    </tr>\n",
              "  </thead>\n",
              "  <tbody>\n",
              "    <tr>\n",
              "      <th>0</th>\n",
              "      <td>Baltimore Sun</td>\n",
              "      <td>391.952</td>\n",
              "      <td>488.506</td>\n",
              "    </tr>\n",
              "    <tr>\n",
              "      <th>1</th>\n",
              "      <td>Boston Globe</td>\n",
              "      <td>516.981</td>\n",
              "      <td>798.298</td>\n",
              "    </tr>\n",
              "    <tr>\n",
              "      <th>2</th>\n",
              "      <td>Boston Herald</td>\n",
              "      <td>355.628</td>\n",
              "      <td>235.084</td>\n",
              "    </tr>\n",
              "    <tr>\n",
              "      <th>3</th>\n",
              "      <td>Charlotte Observer</td>\n",
              "      <td>238.555</td>\n",
              "      <td>299.451</td>\n",
              "    </tr>\n",
              "    <tr>\n",
              "      <th>4</th>\n",
              "      <td>Chicago Sun Times</td>\n",
              "      <td>537.780</td>\n",
              "      <td>559.093</td>\n",
              "    </tr>\n",
              "  </tbody>\n",
              "</table>\n",
              "</div>\n",
              "      <button class=\"colab-df-convert\" onclick=\"convertToInteractive('df-8d4c24da-2ec3-47b5-b977-6fd3b58b2bca')\"\n",
              "              title=\"Convert this dataframe to an interactive table.\"\n",
              "              style=\"display:none;\">\n",
              "        \n",
              "  <svg xmlns=\"http://www.w3.org/2000/svg\" height=\"24px\"viewBox=\"0 0 24 24\"\n",
              "       width=\"24px\">\n",
              "    <path d=\"M0 0h24v24H0V0z\" fill=\"none\"/>\n",
              "    <path d=\"M18.56 5.44l.94 2.06.94-2.06 2.06-.94-2.06-.94-.94-2.06-.94 2.06-2.06.94zm-11 1L8.5 8.5l.94-2.06 2.06-.94-2.06-.94L8.5 2.5l-.94 2.06-2.06.94zm10 10l.94 2.06.94-2.06 2.06-.94-2.06-.94-.94-2.06-.94 2.06-2.06.94z\"/><path d=\"M17.41 7.96l-1.37-1.37c-.4-.4-.92-.59-1.43-.59-.52 0-1.04.2-1.43.59L10.3 9.45l-7.72 7.72c-.78.78-.78 2.05 0 2.83L4 21.41c.39.39.9.59 1.41.59.51 0 1.02-.2 1.41-.59l7.78-7.78 2.81-2.81c.8-.78.8-2.07 0-2.86zM5.41 20L4 18.59l7.72-7.72 1.47 1.35L5.41 20z\"/>\n",
              "  </svg>\n",
              "      </button>\n",
              "      \n",
              "  <style>\n",
              "    .colab-df-container {\n",
              "      display:flex;\n",
              "      flex-wrap:wrap;\n",
              "      gap: 12px;\n",
              "    }\n",
              "\n",
              "    .colab-df-convert {\n",
              "      background-color: #E8F0FE;\n",
              "      border: none;\n",
              "      border-radius: 50%;\n",
              "      cursor: pointer;\n",
              "      display: none;\n",
              "      fill: #1967D2;\n",
              "      height: 32px;\n",
              "      padding: 0 0 0 0;\n",
              "      width: 32px;\n",
              "    }\n",
              "\n",
              "    .colab-df-convert:hover {\n",
              "      background-color: #E2EBFA;\n",
              "      box-shadow: 0px 1px 2px rgba(60, 64, 67, 0.3), 0px 1px 3px 1px rgba(60, 64, 67, 0.15);\n",
              "      fill: #174EA6;\n",
              "    }\n",
              "\n",
              "    [theme=dark] .colab-df-convert {\n",
              "      background-color: #3B4455;\n",
              "      fill: #D2E3FC;\n",
              "    }\n",
              "\n",
              "    [theme=dark] .colab-df-convert:hover {\n",
              "      background-color: #434B5C;\n",
              "      box-shadow: 0px 1px 3px 1px rgba(0, 0, 0, 0.15);\n",
              "      filter: drop-shadow(0px 1px 2px rgba(0, 0, 0, 0.3));\n",
              "      fill: #FFFFFF;\n",
              "    }\n",
              "  </style>\n",
              "\n",
              "      <script>\n",
              "        const buttonEl =\n",
              "          document.querySelector('#df-8d4c24da-2ec3-47b5-b977-6fd3b58b2bca button.colab-df-convert');\n",
              "        buttonEl.style.display =\n",
              "          google.colab.kernel.accessAllowed ? 'block' : 'none';\n",
              "\n",
              "        async function convertToInteractive(key) {\n",
              "          const element = document.querySelector('#df-8d4c24da-2ec3-47b5-b977-6fd3b58b2bca');\n",
              "          const dataTable =\n",
              "            await google.colab.kernel.invokeFunction('convertToInteractive',\n",
              "                                                     [key], {});\n",
              "          if (!dataTable) return;\n",
              "\n",
              "          const docLinkHtml = 'Like what you see? Visit the ' +\n",
              "            '<a target=\"_blank\" href=https://colab.research.google.com/notebooks/data_table.ipynb>data table notebook</a>'\n",
              "            + ' to learn more about interactive tables.';\n",
              "          element.innerHTML = '';\n",
              "          dataTable['output_type'] = 'display_data';\n",
              "          await google.colab.output.renderOutput(dataTable, element);\n",
              "          const docLink = document.createElement('div');\n",
              "          docLink.innerHTML = docLinkHtml;\n",
              "          element.appendChild(docLink);\n",
              "        }\n",
              "      </script>\n",
              "    </div>\n",
              "  </div>\n",
              "  "
            ],
            "text/plain": [
              "            Newspaper    daily   sunday\n",
              "0       Baltimore Sun  391.952  488.506\n",
              "1        Boston Globe  516.981  798.298\n",
              "2       Boston Herald  355.628  235.084\n",
              "3  Charlotte Observer  238.555  299.451\n",
              "4   Chicago Sun Times  537.780  559.093"
            ]
          },
          "metadata": {},
          "execution_count": 2
        }
      ]
    },
    {
      "cell_type": "code",
      "source": [
        ""
      ],
      "metadata": {
        "id": "R-p2_IV7LkC0"
      },
      "execution_count": 2,
      "outputs": []
    },
    {
      "cell_type": "markdown",
      "source": [
        "# Attributes"
      ],
      "metadata": {
        "id": "ajUTa1r-LmpY"
      }
    },
    {
      "cell_type": "code",
      "source": [
        "df.axes #returns values of rows and column"
      ],
      "metadata": {
        "colab": {
          "base_uri": "https://localhost:8080/"
        },
        "id": "aaxMePE5L9A_",
        "outputId": "f1a4d927-0b8b-4717-82de-28154d540844"
      },
      "execution_count": 3,
      "outputs": [
        {
          "output_type": "execute_result",
          "data": {
            "text/plain": [
              "[RangeIndex(start=0, stop=34, step=1),\n",
              " Index(['Newspaper', 'daily', 'sunday'], dtype='object')]"
            ]
          },
          "metadata": {},
          "execution_count": 3
        }
      ]
    },
    {
      "cell_type": "code",
      "source": [
        "df.index #returns values of rows"
      ],
      "metadata": {
        "colab": {
          "base_uri": "https://localhost:8080/"
        },
        "id": "T8UzbUMqMUjB",
        "outputId": "1f965e08-0e71-4ee2-fa40-aef584fe4714"
      },
      "execution_count": 4,
      "outputs": [
        {
          "output_type": "execute_result",
          "data": {
            "text/plain": [
              "RangeIndex(start=0, stop=34, step=1)"
            ]
          },
          "metadata": {},
          "execution_count": 4
        }
      ]
    },
    {
      "cell_type": "code",
      "source": [
        "df.columns #returns values of column headers"
      ],
      "metadata": {
        "colab": {
          "base_uri": "https://localhost:8080/"
        },
        "id": "2qClIA5yMmEf",
        "outputId": "8a74abe0-7cfd-43c9-df7c-2046dc30e1b6"
      },
      "execution_count": 5,
      "outputs": [
        {
          "output_type": "execute_result",
          "data": {
            "text/plain": [
              "Index(['Newspaper', 'daily', 'sunday'], dtype='object')"
            ]
          },
          "metadata": {},
          "execution_count": 5
        }
      ]
    },
    {
      "cell_type": "code",
      "source": [
        "df.iloc[4,:]"
      ],
      "metadata": {
        "colab": {
          "base_uri": "https://localhost:8080/"
        },
        "id": "Dm8SwjElM6XR",
        "outputId": "c662e88d-5f2f-4eb0-c67e-da8b11ac510b"
      },
      "execution_count": 6,
      "outputs": [
        {
          "output_type": "execute_result",
          "data": {
            "text/plain": [
              "Newspaper    Chicago Sun Times\n",
              "daily                   537.78\n",
              "sunday                 559.093\n",
              "Name: 4, dtype: object"
            ]
          },
          "metadata": {},
          "execution_count": 6
        }
      ]
    },
    {
      "cell_type": "code",
      "source": [
        "df.loc[33, 'Newspaper']"
      ],
      "metadata": {
        "colab": {
          "base_uri": "https://localhost:8080/",
          "height": 35
        },
        "id": "RHeeeO9fNVXz",
        "outputId": "f963f325-b565-420a-ac2d-b42c31669985"
      },
      "execution_count": 7,
      "outputs": [
        {
          "output_type": "execute_result",
          "data": {
            "application/vnd.google.colaboratory.intrinsic+json": {
              "type": "string"
            },
            "text/plain": [
              "'Washington Post'"
            ]
          },
          "metadata": {},
          "execution_count": 7
        }
      ]
    },
    {
      "cell_type": "code",
      "source": [
        "df.dtypes"
      ],
      "metadata": {
        "colab": {
          "base_uri": "https://localhost:8080/"
        },
        "id": "6mkauiBVNots",
        "outputId": "0763d291-2036-492a-8c7a-0872addec6af"
      },
      "execution_count": 8,
      "outputs": [
        {
          "output_type": "execute_result",
          "data": {
            "text/plain": [
              "Newspaper     object\n",
              "daily        float64\n",
              "sunday       float64\n",
              "dtype: object"
            ]
          },
          "metadata": {},
          "execution_count": 8
        }
      ]
    },
    {
      "cell_type": "code",
      "source": [
        "df.iat[4,1]"
      ],
      "metadata": {
        "colab": {
          "base_uri": "https://localhost:8080/"
        },
        "id": "BH6WAd_xNytB",
        "outputId": "efca8fd7-bff1-4d27-9218-a5f3232349e6"
      },
      "execution_count": 9,
      "outputs": [
        {
          "output_type": "execute_result",
          "data": {
            "text/plain": [
              "537.78"
            ]
          },
          "metadata": {},
          "execution_count": 9
        }
      ]
    },
    {
      "cell_type": "code",
      "source": [
        "df.ndim #returns dimension of the data could be 1 for series or list, 2 for list of list or dataframe"
      ],
      "metadata": {
        "colab": {
          "base_uri": "https://localhost:8080/"
        },
        "id": "lzjQJAWeOFJN",
        "outputId": "d8cf1f48-fcad-41b0-e3c3-2ff3d8d8bc64"
      },
      "execution_count": 10,
      "outputs": [
        {
          "output_type": "execute_result",
          "data": {
            "text/plain": [
              "2"
            ]
          },
          "metadata": {},
          "execution_count": 10
        }
      ]
    },
    {
      "cell_type": "code",
      "source": [
        "df.values"
      ],
      "metadata": {
        "colab": {
          "base_uri": "https://localhost:8080/"
        },
        "id": "jXr8lByAO-7F",
        "outputId": "c395cc84-cbca-412a-cccc-cfd2f93048f5"
      },
      "execution_count": 11,
      "outputs": [
        {
          "output_type": "execute_result",
          "data": {
            "text/plain": [
              "array([['Baltimore Sun', 391.952, 488.506],\n",
              "       ['Boston Globe', 516.981, 798.298],\n",
              "       ['Boston Herald', 355.62800000000004, 235.084],\n",
              "       ['Charlotte Observer', 238.555, 299.45099999999996],\n",
              "       ['Chicago Sun Times', 537.78, 559.0930000000001],\n",
              "       ['Chicago Tribune', 733.775, 1133.249],\n",
              "       ['Cincinnati Enquirer', 198.832, 348.744],\n",
              "       ['Denver Post', 252.62400000000002, 417.779],\n",
              "       ['Des Moines Register', 206.204, 344.522],\n",
              "       ['Hartford Courant', 231.17700000000002, 323.084],\n",
              "       ['Houston Chronicle', 449.755, 620.752],\n",
              "       ['Kansas City Star', 288.57099999999997, 423.305],\n",
              "       ['Los Angeles Daily  News', 185.736, 202.614],\n",
              "       ['Los Angeles Times', 1164.388, 1531.527],\n",
              "       ['Miami Herald', 444.58099999999996, 553.479],\n",
              "       ['Minneapolis Star Tribune', 412.871, 685.975],\n",
              "       ['New Orleans Times-Picayune', 272.28, 324.241],\n",
              "       ['New York Daily News', 781.796, 983.24],\n",
              "       ['New York Times', 1209.225, 1762.015],\n",
              "       ['Newsday', 825.512, 960.308],\n",
              "       ['Omaha World Herald', 223.748, 284.611],\n",
              "       ['Orange County Register', 354.843, 407.76],\n",
              "       ['Philadelphia Inquirer', 515.523, 982.663],\n",
              "       ['Pittsburgh Press', 220.465, 557.0],\n",
              "       ['Portland Oregonian', 337.67199999999997, 440.923],\n",
              "       ['Providence Journal-Bulletin', 197.12, 268.06],\n",
              "       ['Rochester Democrat & Chronicle', 133.239, 262.048],\n",
              "       ['Rocky Mountain News', 374.009, 432.50199999999995],\n",
              "       ['Sacramento Bee', 273.844, 338.355],\n",
              "       ['San Francisco Chronicle', 570.364, 704.322],\n",
              "       ['St. Louis Post-Dispatch', 391.286, 585.681],\n",
              "       ['St. Paul Pioneer Press', 201.86, 267.781],\n",
              "       ['Tampa Tribune', 321.626, 408.343],\n",
              "       ['Washington Post', 838.9019999999999, 1165.567]], dtype=object)"
            ]
          },
          "metadata": {},
          "execution_count": 11
        }
      ]
    },
    {
      "cell_type": "code",
      "source": [
        "df.size"
      ],
      "metadata": {
        "colab": {
          "base_uri": "https://localhost:8080/"
        },
        "id": "B26dEEfXPF35",
        "outputId": "4bd2724a-58b7-4213-b2cd-3e0872c7b052"
      },
      "execution_count": 12,
      "outputs": [
        {
          "output_type": "execute_result",
          "data": {
            "text/plain": [
              "102"
            ]
          },
          "metadata": {},
          "execution_count": 12
        }
      ]
    },
    {
      "cell_type": "code",
      "source": [
        "df.shape"
      ],
      "metadata": {
        "colab": {
          "base_uri": "https://localhost:8080/"
        },
        "id": "ZHRXb2LBPINt",
        "outputId": "6d84c911-22ce-43af-d2ef-f3b3cabd503e"
      },
      "execution_count": 13,
      "outputs": [
        {
          "output_type": "execute_result",
          "data": {
            "text/plain": [
              "(34, 3)"
            ]
          },
          "metadata": {},
          "execution_count": 13
        }
      ]
    },
    {
      "cell_type": "code",
      "source": [
        ""
      ],
      "metadata": {
        "id": "USLKwFzqPM-l"
      },
      "execution_count": 13,
      "outputs": []
    },
    {
      "cell_type": "code",
      "source": [
        "df.style"
      ],
      "metadata": {
        "colab": {
          "base_uri": "https://localhost:8080/",
          "height": 1000
        },
        "id": "KBo09GbeLOVA",
        "outputId": "704cd8b4-431c-4f8a-bd31-e9c8895b49b1"
      },
      "execution_count": 14,
      "outputs": [
        {
          "output_type": "execute_result",
          "data": {
            "text/html": [
              "<style  type=\"text/css\" >\n",
              "</style><table id=\"T_f4104d4a_6fb5_11ec_9578_0242ac1c0002\" class=\"dataframe\"><thead>    <tr>        <th class=\"blank level0\" ></th>        <th class=\"col_heading level0 col0\" >Newspaper</th>        <th class=\"col_heading level0 col1\" >daily</th>        <th class=\"col_heading level0 col2\" >sunday</th>    </tr></thead><tbody>\n",
              "                <tr>\n",
              "                        <th id=\"T_f4104d4a_6fb5_11ec_9578_0242ac1c0002level0_row0\" class=\"row_heading level0 row0\" >0</th>\n",
              "                        <td id=\"T_f4104d4a_6fb5_11ec_9578_0242ac1c0002row0_col0\" class=\"data row0 col0\" >Baltimore Sun</td>\n",
              "                        <td id=\"T_f4104d4a_6fb5_11ec_9578_0242ac1c0002row0_col1\" class=\"data row0 col1\" >391.952000</td>\n",
              "                        <td id=\"T_f4104d4a_6fb5_11ec_9578_0242ac1c0002row0_col2\" class=\"data row0 col2\" >488.506000</td>\n",
              "            </tr>\n",
              "            <tr>\n",
              "                        <th id=\"T_f4104d4a_6fb5_11ec_9578_0242ac1c0002level0_row1\" class=\"row_heading level0 row1\" >1</th>\n",
              "                        <td id=\"T_f4104d4a_6fb5_11ec_9578_0242ac1c0002row1_col0\" class=\"data row1 col0\" >Boston Globe</td>\n",
              "                        <td id=\"T_f4104d4a_6fb5_11ec_9578_0242ac1c0002row1_col1\" class=\"data row1 col1\" >516.981000</td>\n",
              "                        <td id=\"T_f4104d4a_6fb5_11ec_9578_0242ac1c0002row1_col2\" class=\"data row1 col2\" >798.298000</td>\n",
              "            </tr>\n",
              "            <tr>\n",
              "                        <th id=\"T_f4104d4a_6fb5_11ec_9578_0242ac1c0002level0_row2\" class=\"row_heading level0 row2\" >2</th>\n",
              "                        <td id=\"T_f4104d4a_6fb5_11ec_9578_0242ac1c0002row2_col0\" class=\"data row2 col0\" >Boston Herald</td>\n",
              "                        <td id=\"T_f4104d4a_6fb5_11ec_9578_0242ac1c0002row2_col1\" class=\"data row2 col1\" >355.628000</td>\n",
              "                        <td id=\"T_f4104d4a_6fb5_11ec_9578_0242ac1c0002row2_col2\" class=\"data row2 col2\" >235.084000</td>\n",
              "            </tr>\n",
              "            <tr>\n",
              "                        <th id=\"T_f4104d4a_6fb5_11ec_9578_0242ac1c0002level0_row3\" class=\"row_heading level0 row3\" >3</th>\n",
              "                        <td id=\"T_f4104d4a_6fb5_11ec_9578_0242ac1c0002row3_col0\" class=\"data row3 col0\" >Charlotte Observer</td>\n",
              "                        <td id=\"T_f4104d4a_6fb5_11ec_9578_0242ac1c0002row3_col1\" class=\"data row3 col1\" >238.555000</td>\n",
              "                        <td id=\"T_f4104d4a_6fb5_11ec_9578_0242ac1c0002row3_col2\" class=\"data row3 col2\" >299.451000</td>\n",
              "            </tr>\n",
              "            <tr>\n",
              "                        <th id=\"T_f4104d4a_6fb5_11ec_9578_0242ac1c0002level0_row4\" class=\"row_heading level0 row4\" >4</th>\n",
              "                        <td id=\"T_f4104d4a_6fb5_11ec_9578_0242ac1c0002row4_col0\" class=\"data row4 col0\" >Chicago Sun Times</td>\n",
              "                        <td id=\"T_f4104d4a_6fb5_11ec_9578_0242ac1c0002row4_col1\" class=\"data row4 col1\" >537.780000</td>\n",
              "                        <td id=\"T_f4104d4a_6fb5_11ec_9578_0242ac1c0002row4_col2\" class=\"data row4 col2\" >559.093000</td>\n",
              "            </tr>\n",
              "            <tr>\n",
              "                        <th id=\"T_f4104d4a_6fb5_11ec_9578_0242ac1c0002level0_row5\" class=\"row_heading level0 row5\" >5</th>\n",
              "                        <td id=\"T_f4104d4a_6fb5_11ec_9578_0242ac1c0002row5_col0\" class=\"data row5 col0\" >Chicago Tribune</td>\n",
              "                        <td id=\"T_f4104d4a_6fb5_11ec_9578_0242ac1c0002row5_col1\" class=\"data row5 col1\" >733.775000</td>\n",
              "                        <td id=\"T_f4104d4a_6fb5_11ec_9578_0242ac1c0002row5_col2\" class=\"data row5 col2\" >1133.249000</td>\n",
              "            </tr>\n",
              "            <tr>\n",
              "                        <th id=\"T_f4104d4a_6fb5_11ec_9578_0242ac1c0002level0_row6\" class=\"row_heading level0 row6\" >6</th>\n",
              "                        <td id=\"T_f4104d4a_6fb5_11ec_9578_0242ac1c0002row6_col0\" class=\"data row6 col0\" >Cincinnati Enquirer</td>\n",
              "                        <td id=\"T_f4104d4a_6fb5_11ec_9578_0242ac1c0002row6_col1\" class=\"data row6 col1\" >198.832000</td>\n",
              "                        <td id=\"T_f4104d4a_6fb5_11ec_9578_0242ac1c0002row6_col2\" class=\"data row6 col2\" >348.744000</td>\n",
              "            </tr>\n",
              "            <tr>\n",
              "                        <th id=\"T_f4104d4a_6fb5_11ec_9578_0242ac1c0002level0_row7\" class=\"row_heading level0 row7\" >7</th>\n",
              "                        <td id=\"T_f4104d4a_6fb5_11ec_9578_0242ac1c0002row7_col0\" class=\"data row7 col0\" >Denver Post</td>\n",
              "                        <td id=\"T_f4104d4a_6fb5_11ec_9578_0242ac1c0002row7_col1\" class=\"data row7 col1\" >252.624000</td>\n",
              "                        <td id=\"T_f4104d4a_6fb5_11ec_9578_0242ac1c0002row7_col2\" class=\"data row7 col2\" >417.779000</td>\n",
              "            </tr>\n",
              "            <tr>\n",
              "                        <th id=\"T_f4104d4a_6fb5_11ec_9578_0242ac1c0002level0_row8\" class=\"row_heading level0 row8\" >8</th>\n",
              "                        <td id=\"T_f4104d4a_6fb5_11ec_9578_0242ac1c0002row8_col0\" class=\"data row8 col0\" >Des Moines Register</td>\n",
              "                        <td id=\"T_f4104d4a_6fb5_11ec_9578_0242ac1c0002row8_col1\" class=\"data row8 col1\" >206.204000</td>\n",
              "                        <td id=\"T_f4104d4a_6fb5_11ec_9578_0242ac1c0002row8_col2\" class=\"data row8 col2\" >344.522000</td>\n",
              "            </tr>\n",
              "            <tr>\n",
              "                        <th id=\"T_f4104d4a_6fb5_11ec_9578_0242ac1c0002level0_row9\" class=\"row_heading level0 row9\" >9</th>\n",
              "                        <td id=\"T_f4104d4a_6fb5_11ec_9578_0242ac1c0002row9_col0\" class=\"data row9 col0\" >Hartford Courant</td>\n",
              "                        <td id=\"T_f4104d4a_6fb5_11ec_9578_0242ac1c0002row9_col1\" class=\"data row9 col1\" >231.177000</td>\n",
              "                        <td id=\"T_f4104d4a_6fb5_11ec_9578_0242ac1c0002row9_col2\" class=\"data row9 col2\" >323.084000</td>\n",
              "            </tr>\n",
              "            <tr>\n",
              "                        <th id=\"T_f4104d4a_6fb5_11ec_9578_0242ac1c0002level0_row10\" class=\"row_heading level0 row10\" >10</th>\n",
              "                        <td id=\"T_f4104d4a_6fb5_11ec_9578_0242ac1c0002row10_col0\" class=\"data row10 col0\" >Houston Chronicle</td>\n",
              "                        <td id=\"T_f4104d4a_6fb5_11ec_9578_0242ac1c0002row10_col1\" class=\"data row10 col1\" >449.755000</td>\n",
              "                        <td id=\"T_f4104d4a_6fb5_11ec_9578_0242ac1c0002row10_col2\" class=\"data row10 col2\" >620.752000</td>\n",
              "            </tr>\n",
              "            <tr>\n",
              "                        <th id=\"T_f4104d4a_6fb5_11ec_9578_0242ac1c0002level0_row11\" class=\"row_heading level0 row11\" >11</th>\n",
              "                        <td id=\"T_f4104d4a_6fb5_11ec_9578_0242ac1c0002row11_col0\" class=\"data row11 col0\" >Kansas City Star</td>\n",
              "                        <td id=\"T_f4104d4a_6fb5_11ec_9578_0242ac1c0002row11_col1\" class=\"data row11 col1\" >288.571000</td>\n",
              "                        <td id=\"T_f4104d4a_6fb5_11ec_9578_0242ac1c0002row11_col2\" class=\"data row11 col2\" >423.305000</td>\n",
              "            </tr>\n",
              "            <tr>\n",
              "                        <th id=\"T_f4104d4a_6fb5_11ec_9578_0242ac1c0002level0_row12\" class=\"row_heading level0 row12\" >12</th>\n",
              "                        <td id=\"T_f4104d4a_6fb5_11ec_9578_0242ac1c0002row12_col0\" class=\"data row12 col0\" >Los Angeles Daily  News</td>\n",
              "                        <td id=\"T_f4104d4a_6fb5_11ec_9578_0242ac1c0002row12_col1\" class=\"data row12 col1\" >185.736000</td>\n",
              "                        <td id=\"T_f4104d4a_6fb5_11ec_9578_0242ac1c0002row12_col2\" class=\"data row12 col2\" >202.614000</td>\n",
              "            </tr>\n",
              "            <tr>\n",
              "                        <th id=\"T_f4104d4a_6fb5_11ec_9578_0242ac1c0002level0_row13\" class=\"row_heading level0 row13\" >13</th>\n",
              "                        <td id=\"T_f4104d4a_6fb5_11ec_9578_0242ac1c0002row13_col0\" class=\"data row13 col0\" >Los Angeles Times</td>\n",
              "                        <td id=\"T_f4104d4a_6fb5_11ec_9578_0242ac1c0002row13_col1\" class=\"data row13 col1\" >1164.388000</td>\n",
              "                        <td id=\"T_f4104d4a_6fb5_11ec_9578_0242ac1c0002row13_col2\" class=\"data row13 col2\" >1531.527000</td>\n",
              "            </tr>\n",
              "            <tr>\n",
              "                        <th id=\"T_f4104d4a_6fb5_11ec_9578_0242ac1c0002level0_row14\" class=\"row_heading level0 row14\" >14</th>\n",
              "                        <td id=\"T_f4104d4a_6fb5_11ec_9578_0242ac1c0002row14_col0\" class=\"data row14 col0\" >Miami Herald</td>\n",
              "                        <td id=\"T_f4104d4a_6fb5_11ec_9578_0242ac1c0002row14_col1\" class=\"data row14 col1\" >444.581000</td>\n",
              "                        <td id=\"T_f4104d4a_6fb5_11ec_9578_0242ac1c0002row14_col2\" class=\"data row14 col2\" >553.479000</td>\n",
              "            </tr>\n",
              "            <tr>\n",
              "                        <th id=\"T_f4104d4a_6fb5_11ec_9578_0242ac1c0002level0_row15\" class=\"row_heading level0 row15\" >15</th>\n",
              "                        <td id=\"T_f4104d4a_6fb5_11ec_9578_0242ac1c0002row15_col0\" class=\"data row15 col0\" >Minneapolis Star Tribune</td>\n",
              "                        <td id=\"T_f4104d4a_6fb5_11ec_9578_0242ac1c0002row15_col1\" class=\"data row15 col1\" >412.871000</td>\n",
              "                        <td id=\"T_f4104d4a_6fb5_11ec_9578_0242ac1c0002row15_col2\" class=\"data row15 col2\" >685.975000</td>\n",
              "            </tr>\n",
              "            <tr>\n",
              "                        <th id=\"T_f4104d4a_6fb5_11ec_9578_0242ac1c0002level0_row16\" class=\"row_heading level0 row16\" >16</th>\n",
              "                        <td id=\"T_f4104d4a_6fb5_11ec_9578_0242ac1c0002row16_col0\" class=\"data row16 col0\" >New Orleans Times-Picayune</td>\n",
              "                        <td id=\"T_f4104d4a_6fb5_11ec_9578_0242ac1c0002row16_col1\" class=\"data row16 col1\" >272.280000</td>\n",
              "                        <td id=\"T_f4104d4a_6fb5_11ec_9578_0242ac1c0002row16_col2\" class=\"data row16 col2\" >324.241000</td>\n",
              "            </tr>\n",
              "            <tr>\n",
              "                        <th id=\"T_f4104d4a_6fb5_11ec_9578_0242ac1c0002level0_row17\" class=\"row_heading level0 row17\" >17</th>\n",
              "                        <td id=\"T_f4104d4a_6fb5_11ec_9578_0242ac1c0002row17_col0\" class=\"data row17 col0\" >New York Daily News</td>\n",
              "                        <td id=\"T_f4104d4a_6fb5_11ec_9578_0242ac1c0002row17_col1\" class=\"data row17 col1\" >781.796000</td>\n",
              "                        <td id=\"T_f4104d4a_6fb5_11ec_9578_0242ac1c0002row17_col2\" class=\"data row17 col2\" >983.240000</td>\n",
              "            </tr>\n",
              "            <tr>\n",
              "                        <th id=\"T_f4104d4a_6fb5_11ec_9578_0242ac1c0002level0_row18\" class=\"row_heading level0 row18\" >18</th>\n",
              "                        <td id=\"T_f4104d4a_6fb5_11ec_9578_0242ac1c0002row18_col0\" class=\"data row18 col0\" >New York Times</td>\n",
              "                        <td id=\"T_f4104d4a_6fb5_11ec_9578_0242ac1c0002row18_col1\" class=\"data row18 col1\" >1209.225000</td>\n",
              "                        <td id=\"T_f4104d4a_6fb5_11ec_9578_0242ac1c0002row18_col2\" class=\"data row18 col2\" >1762.015000</td>\n",
              "            </tr>\n",
              "            <tr>\n",
              "                        <th id=\"T_f4104d4a_6fb5_11ec_9578_0242ac1c0002level0_row19\" class=\"row_heading level0 row19\" >19</th>\n",
              "                        <td id=\"T_f4104d4a_6fb5_11ec_9578_0242ac1c0002row19_col0\" class=\"data row19 col0\" >Newsday</td>\n",
              "                        <td id=\"T_f4104d4a_6fb5_11ec_9578_0242ac1c0002row19_col1\" class=\"data row19 col1\" >825.512000</td>\n",
              "                        <td id=\"T_f4104d4a_6fb5_11ec_9578_0242ac1c0002row19_col2\" class=\"data row19 col2\" >960.308000</td>\n",
              "            </tr>\n",
              "            <tr>\n",
              "                        <th id=\"T_f4104d4a_6fb5_11ec_9578_0242ac1c0002level0_row20\" class=\"row_heading level0 row20\" >20</th>\n",
              "                        <td id=\"T_f4104d4a_6fb5_11ec_9578_0242ac1c0002row20_col0\" class=\"data row20 col0\" >Omaha World Herald</td>\n",
              "                        <td id=\"T_f4104d4a_6fb5_11ec_9578_0242ac1c0002row20_col1\" class=\"data row20 col1\" >223.748000</td>\n",
              "                        <td id=\"T_f4104d4a_6fb5_11ec_9578_0242ac1c0002row20_col2\" class=\"data row20 col2\" >284.611000</td>\n",
              "            </tr>\n",
              "            <tr>\n",
              "                        <th id=\"T_f4104d4a_6fb5_11ec_9578_0242ac1c0002level0_row21\" class=\"row_heading level0 row21\" >21</th>\n",
              "                        <td id=\"T_f4104d4a_6fb5_11ec_9578_0242ac1c0002row21_col0\" class=\"data row21 col0\" >Orange County Register</td>\n",
              "                        <td id=\"T_f4104d4a_6fb5_11ec_9578_0242ac1c0002row21_col1\" class=\"data row21 col1\" >354.843000</td>\n",
              "                        <td id=\"T_f4104d4a_6fb5_11ec_9578_0242ac1c0002row21_col2\" class=\"data row21 col2\" >407.760000</td>\n",
              "            </tr>\n",
              "            <tr>\n",
              "                        <th id=\"T_f4104d4a_6fb5_11ec_9578_0242ac1c0002level0_row22\" class=\"row_heading level0 row22\" >22</th>\n",
              "                        <td id=\"T_f4104d4a_6fb5_11ec_9578_0242ac1c0002row22_col0\" class=\"data row22 col0\" >Philadelphia Inquirer</td>\n",
              "                        <td id=\"T_f4104d4a_6fb5_11ec_9578_0242ac1c0002row22_col1\" class=\"data row22 col1\" >515.523000</td>\n",
              "                        <td id=\"T_f4104d4a_6fb5_11ec_9578_0242ac1c0002row22_col2\" class=\"data row22 col2\" >982.663000</td>\n",
              "            </tr>\n",
              "            <tr>\n",
              "                        <th id=\"T_f4104d4a_6fb5_11ec_9578_0242ac1c0002level0_row23\" class=\"row_heading level0 row23\" >23</th>\n",
              "                        <td id=\"T_f4104d4a_6fb5_11ec_9578_0242ac1c0002row23_col0\" class=\"data row23 col0\" >Pittsburgh Press</td>\n",
              "                        <td id=\"T_f4104d4a_6fb5_11ec_9578_0242ac1c0002row23_col1\" class=\"data row23 col1\" >220.465000</td>\n",
              "                        <td id=\"T_f4104d4a_6fb5_11ec_9578_0242ac1c0002row23_col2\" class=\"data row23 col2\" >557.000000</td>\n",
              "            </tr>\n",
              "            <tr>\n",
              "                        <th id=\"T_f4104d4a_6fb5_11ec_9578_0242ac1c0002level0_row24\" class=\"row_heading level0 row24\" >24</th>\n",
              "                        <td id=\"T_f4104d4a_6fb5_11ec_9578_0242ac1c0002row24_col0\" class=\"data row24 col0\" >Portland Oregonian</td>\n",
              "                        <td id=\"T_f4104d4a_6fb5_11ec_9578_0242ac1c0002row24_col1\" class=\"data row24 col1\" >337.672000</td>\n",
              "                        <td id=\"T_f4104d4a_6fb5_11ec_9578_0242ac1c0002row24_col2\" class=\"data row24 col2\" >440.923000</td>\n",
              "            </tr>\n",
              "            <tr>\n",
              "                        <th id=\"T_f4104d4a_6fb5_11ec_9578_0242ac1c0002level0_row25\" class=\"row_heading level0 row25\" >25</th>\n",
              "                        <td id=\"T_f4104d4a_6fb5_11ec_9578_0242ac1c0002row25_col0\" class=\"data row25 col0\" >Providence Journal-Bulletin</td>\n",
              "                        <td id=\"T_f4104d4a_6fb5_11ec_9578_0242ac1c0002row25_col1\" class=\"data row25 col1\" >197.120000</td>\n",
              "                        <td id=\"T_f4104d4a_6fb5_11ec_9578_0242ac1c0002row25_col2\" class=\"data row25 col2\" >268.060000</td>\n",
              "            </tr>\n",
              "            <tr>\n",
              "                        <th id=\"T_f4104d4a_6fb5_11ec_9578_0242ac1c0002level0_row26\" class=\"row_heading level0 row26\" >26</th>\n",
              "                        <td id=\"T_f4104d4a_6fb5_11ec_9578_0242ac1c0002row26_col0\" class=\"data row26 col0\" >Rochester Democrat & Chronicle</td>\n",
              "                        <td id=\"T_f4104d4a_6fb5_11ec_9578_0242ac1c0002row26_col1\" class=\"data row26 col1\" >133.239000</td>\n",
              "                        <td id=\"T_f4104d4a_6fb5_11ec_9578_0242ac1c0002row26_col2\" class=\"data row26 col2\" >262.048000</td>\n",
              "            </tr>\n",
              "            <tr>\n",
              "                        <th id=\"T_f4104d4a_6fb5_11ec_9578_0242ac1c0002level0_row27\" class=\"row_heading level0 row27\" >27</th>\n",
              "                        <td id=\"T_f4104d4a_6fb5_11ec_9578_0242ac1c0002row27_col0\" class=\"data row27 col0\" >Rocky Mountain News</td>\n",
              "                        <td id=\"T_f4104d4a_6fb5_11ec_9578_0242ac1c0002row27_col1\" class=\"data row27 col1\" >374.009000</td>\n",
              "                        <td id=\"T_f4104d4a_6fb5_11ec_9578_0242ac1c0002row27_col2\" class=\"data row27 col2\" >432.502000</td>\n",
              "            </tr>\n",
              "            <tr>\n",
              "                        <th id=\"T_f4104d4a_6fb5_11ec_9578_0242ac1c0002level0_row28\" class=\"row_heading level0 row28\" >28</th>\n",
              "                        <td id=\"T_f4104d4a_6fb5_11ec_9578_0242ac1c0002row28_col0\" class=\"data row28 col0\" >Sacramento Bee</td>\n",
              "                        <td id=\"T_f4104d4a_6fb5_11ec_9578_0242ac1c0002row28_col1\" class=\"data row28 col1\" >273.844000</td>\n",
              "                        <td id=\"T_f4104d4a_6fb5_11ec_9578_0242ac1c0002row28_col2\" class=\"data row28 col2\" >338.355000</td>\n",
              "            </tr>\n",
              "            <tr>\n",
              "                        <th id=\"T_f4104d4a_6fb5_11ec_9578_0242ac1c0002level0_row29\" class=\"row_heading level0 row29\" >29</th>\n",
              "                        <td id=\"T_f4104d4a_6fb5_11ec_9578_0242ac1c0002row29_col0\" class=\"data row29 col0\" >San Francisco Chronicle</td>\n",
              "                        <td id=\"T_f4104d4a_6fb5_11ec_9578_0242ac1c0002row29_col1\" class=\"data row29 col1\" >570.364000</td>\n",
              "                        <td id=\"T_f4104d4a_6fb5_11ec_9578_0242ac1c0002row29_col2\" class=\"data row29 col2\" >704.322000</td>\n",
              "            </tr>\n",
              "            <tr>\n",
              "                        <th id=\"T_f4104d4a_6fb5_11ec_9578_0242ac1c0002level0_row30\" class=\"row_heading level0 row30\" >30</th>\n",
              "                        <td id=\"T_f4104d4a_6fb5_11ec_9578_0242ac1c0002row30_col0\" class=\"data row30 col0\" >St. Louis Post-Dispatch</td>\n",
              "                        <td id=\"T_f4104d4a_6fb5_11ec_9578_0242ac1c0002row30_col1\" class=\"data row30 col1\" >391.286000</td>\n",
              "                        <td id=\"T_f4104d4a_6fb5_11ec_9578_0242ac1c0002row30_col2\" class=\"data row30 col2\" >585.681000</td>\n",
              "            </tr>\n",
              "            <tr>\n",
              "                        <th id=\"T_f4104d4a_6fb5_11ec_9578_0242ac1c0002level0_row31\" class=\"row_heading level0 row31\" >31</th>\n",
              "                        <td id=\"T_f4104d4a_6fb5_11ec_9578_0242ac1c0002row31_col0\" class=\"data row31 col0\" >St. Paul Pioneer Press</td>\n",
              "                        <td id=\"T_f4104d4a_6fb5_11ec_9578_0242ac1c0002row31_col1\" class=\"data row31 col1\" >201.860000</td>\n",
              "                        <td id=\"T_f4104d4a_6fb5_11ec_9578_0242ac1c0002row31_col2\" class=\"data row31 col2\" >267.781000</td>\n",
              "            </tr>\n",
              "            <tr>\n",
              "                        <th id=\"T_f4104d4a_6fb5_11ec_9578_0242ac1c0002level0_row32\" class=\"row_heading level0 row32\" >32</th>\n",
              "                        <td id=\"T_f4104d4a_6fb5_11ec_9578_0242ac1c0002row32_col0\" class=\"data row32 col0\" >Tampa Tribune</td>\n",
              "                        <td id=\"T_f4104d4a_6fb5_11ec_9578_0242ac1c0002row32_col1\" class=\"data row32 col1\" >321.626000</td>\n",
              "                        <td id=\"T_f4104d4a_6fb5_11ec_9578_0242ac1c0002row32_col2\" class=\"data row32 col2\" >408.343000</td>\n",
              "            </tr>\n",
              "            <tr>\n",
              "                        <th id=\"T_f4104d4a_6fb5_11ec_9578_0242ac1c0002level0_row33\" class=\"row_heading level0 row33\" >33</th>\n",
              "                        <td id=\"T_f4104d4a_6fb5_11ec_9578_0242ac1c0002row33_col0\" class=\"data row33 col0\" >Washington Post</td>\n",
              "                        <td id=\"T_f4104d4a_6fb5_11ec_9578_0242ac1c0002row33_col1\" class=\"data row33 col1\" >838.902000</td>\n",
              "                        <td id=\"T_f4104d4a_6fb5_11ec_9578_0242ac1c0002row33_col2\" class=\"data row33 col2\" >1165.567000</td>\n",
              "            </tr>\n",
              "    </tbody></table>"
            ],
            "text/plain": [
              "<pandas.io.formats.style.Styler at 0x7f8dc4c65190>"
            ]
          },
          "metadata": {},
          "execution_count": 14
        }
      ]
    },
    {
      "cell_type": "code",
      "source": [
        "df.info()"
      ],
      "metadata": {
        "colab": {
          "base_uri": "https://localhost:8080/"
        },
        "id": "o97G62qlLhYA",
        "outputId": "b0f6179a-9a9b-4751-d09b-4c15ad45c8d3"
      },
      "execution_count": 15,
      "outputs": [
        {
          "output_type": "stream",
          "name": "stdout",
          "text": [
            "<class 'pandas.core.frame.DataFrame'>\n",
            "RangeIndex: 34 entries, 0 to 33\n",
            "Data columns (total 3 columns):\n",
            " #   Column     Non-Null Count  Dtype  \n",
            "---  ------     --------------  -----  \n",
            " 0   Newspaper  34 non-null     object \n",
            " 1   daily      34 non-null     float64\n",
            " 2   sunday     34 non-null     float64\n",
            "dtypes: float64(2), object(1)\n",
            "memory usage: 944.0+ bytes\n"
          ]
        }
      ]
    },
    {
      "cell_type": "markdown",
      "source": [
        "# **After checking the attributes and checking the values. Data does not have any null values**"
      ],
      "metadata": {
        "id": "0khJUOMyPZvy"
      }
    },
    {
      "cell_type": "markdown",
      "source": [
        "# Newspaper column is unique in nature contains names of the news paper\n",
        "# dataframe has 3 variables which has one unique, 2 continuous numerical\n",
        "# target variable is sunday, predictor variable is daily\n"
      ],
      "metadata": {
        "id": "80WPa3n0P40X"
      }
    },
    {
      "cell_type": "code",
      "source": [
        "#describing the dataset\n",
        "\n",
        "df.describe()"
      ],
      "metadata": {
        "colab": {
          "base_uri": "https://localhost:8080/",
          "height": 300
        },
        "id": "skEN6tYJQHP0",
        "outputId": "b2907f67-aefb-4548-a9a7-61def9caf21a"
      },
      "execution_count": 16,
      "outputs": [
        {
          "output_type": "execute_result",
          "data": {
            "text/html": [
              "\n",
              "  <div id=\"df-2f8b5216-7791-4345-88a1-4ca4bcffec38\">\n",
              "    <div class=\"colab-df-container\">\n",
              "      <div>\n",
              "<style scoped>\n",
              "    .dataframe tbody tr th:only-of-type {\n",
              "        vertical-align: middle;\n",
              "    }\n",
              "\n",
              "    .dataframe tbody tr th {\n",
              "        vertical-align: top;\n",
              "    }\n",
              "\n",
              "    .dataframe thead th {\n",
              "        text-align: right;\n",
              "    }\n",
              "</style>\n",
              "<table border=\"1\" class=\"dataframe\">\n",
              "  <thead>\n",
              "    <tr style=\"text-align: right;\">\n",
              "      <th></th>\n",
              "      <th>daily</th>\n",
              "      <th>sunday</th>\n",
              "    </tr>\n",
              "  </thead>\n",
              "  <tbody>\n",
              "    <tr>\n",
              "      <th>count</th>\n",
              "      <td>34.000000</td>\n",
              "      <td>34.000000</td>\n",
              "    </tr>\n",
              "    <tr>\n",
              "      <th>mean</th>\n",
              "      <td>430.962471</td>\n",
              "      <td>591.202412</td>\n",
              "    </tr>\n",
              "    <tr>\n",
              "      <th>std</th>\n",
              "      <td>269.211470</td>\n",
              "      <td>376.418051</td>\n",
              "    </tr>\n",
              "    <tr>\n",
              "      <th>min</th>\n",
              "      <td>133.239000</td>\n",
              "      <td>202.614000</td>\n",
              "    </tr>\n",
              "    <tr>\n",
              "      <th>25%</th>\n",
              "      <td>233.021500</td>\n",
              "      <td>327.769500</td>\n",
              "    </tr>\n",
              "    <tr>\n",
              "      <th>50%</th>\n",
              "      <td>355.235500</td>\n",
              "      <td>436.712500</td>\n",
              "    </tr>\n",
              "    <tr>\n",
              "      <th>75%</th>\n",
              "      <td>516.616500</td>\n",
              "      <td>699.735250</td>\n",
              "    </tr>\n",
              "    <tr>\n",
              "      <th>max</th>\n",
              "      <td>1209.225000</td>\n",
              "      <td>1762.015000</td>\n",
              "    </tr>\n",
              "  </tbody>\n",
              "</table>\n",
              "</div>\n",
              "      <button class=\"colab-df-convert\" onclick=\"convertToInteractive('df-2f8b5216-7791-4345-88a1-4ca4bcffec38')\"\n",
              "              title=\"Convert this dataframe to an interactive table.\"\n",
              "              style=\"display:none;\">\n",
              "        \n",
              "  <svg xmlns=\"http://www.w3.org/2000/svg\" height=\"24px\"viewBox=\"0 0 24 24\"\n",
              "       width=\"24px\">\n",
              "    <path d=\"M0 0h24v24H0V0z\" fill=\"none\"/>\n",
              "    <path d=\"M18.56 5.44l.94 2.06.94-2.06 2.06-.94-2.06-.94-.94-2.06-.94 2.06-2.06.94zm-11 1L8.5 8.5l.94-2.06 2.06-.94-2.06-.94L8.5 2.5l-.94 2.06-2.06.94zm10 10l.94 2.06.94-2.06 2.06-.94-2.06-.94-.94-2.06-.94 2.06-2.06.94z\"/><path d=\"M17.41 7.96l-1.37-1.37c-.4-.4-.92-.59-1.43-.59-.52 0-1.04.2-1.43.59L10.3 9.45l-7.72 7.72c-.78.78-.78 2.05 0 2.83L4 21.41c.39.39.9.59 1.41.59.51 0 1.02-.2 1.41-.59l7.78-7.78 2.81-2.81c.8-.78.8-2.07 0-2.86zM5.41 20L4 18.59l7.72-7.72 1.47 1.35L5.41 20z\"/>\n",
              "  </svg>\n",
              "      </button>\n",
              "      \n",
              "  <style>\n",
              "    .colab-df-container {\n",
              "      display:flex;\n",
              "      flex-wrap:wrap;\n",
              "      gap: 12px;\n",
              "    }\n",
              "\n",
              "    .colab-df-convert {\n",
              "      background-color: #E8F0FE;\n",
              "      border: none;\n",
              "      border-radius: 50%;\n",
              "      cursor: pointer;\n",
              "      display: none;\n",
              "      fill: #1967D2;\n",
              "      height: 32px;\n",
              "      padding: 0 0 0 0;\n",
              "      width: 32px;\n",
              "    }\n",
              "\n",
              "    .colab-df-convert:hover {\n",
              "      background-color: #E2EBFA;\n",
              "      box-shadow: 0px 1px 2px rgba(60, 64, 67, 0.3), 0px 1px 3px 1px rgba(60, 64, 67, 0.15);\n",
              "      fill: #174EA6;\n",
              "    }\n",
              "\n",
              "    [theme=dark] .colab-df-convert {\n",
              "      background-color: #3B4455;\n",
              "      fill: #D2E3FC;\n",
              "    }\n",
              "\n",
              "    [theme=dark] .colab-df-convert:hover {\n",
              "      background-color: #434B5C;\n",
              "      box-shadow: 0px 1px 3px 1px rgba(0, 0, 0, 0.15);\n",
              "      filter: drop-shadow(0px 1px 2px rgba(0, 0, 0, 0.3));\n",
              "      fill: #FFFFFF;\n",
              "    }\n",
              "  </style>\n",
              "\n",
              "      <script>\n",
              "        const buttonEl =\n",
              "          document.querySelector('#df-2f8b5216-7791-4345-88a1-4ca4bcffec38 button.colab-df-convert');\n",
              "        buttonEl.style.display =\n",
              "          google.colab.kernel.accessAllowed ? 'block' : 'none';\n",
              "\n",
              "        async function convertToInteractive(key) {\n",
              "          const element = document.querySelector('#df-2f8b5216-7791-4345-88a1-4ca4bcffec38');\n",
              "          const dataTable =\n",
              "            await google.colab.kernel.invokeFunction('convertToInteractive',\n",
              "                                                     [key], {});\n",
              "          if (!dataTable) return;\n",
              "\n",
              "          const docLinkHtml = 'Like what you see? Visit the ' +\n",
              "            '<a target=\"_blank\" href=https://colab.research.google.com/notebooks/data_table.ipynb>data table notebook</a>'\n",
              "            + ' to learn more about interactive tables.';\n",
              "          element.innerHTML = '';\n",
              "          dataTable['output_type'] = 'display_data';\n",
              "          await google.colab.output.renderOutput(dataTable, element);\n",
              "          const docLink = document.createElement('div');\n",
              "          docLink.innerHTML = docLinkHtml;\n",
              "          element.appendChild(docLink);\n",
              "        }\n",
              "      </script>\n",
              "    </div>\n",
              "  </div>\n",
              "  "
            ],
            "text/plain": [
              "             daily       sunday\n",
              "count    34.000000    34.000000\n",
              "mean    430.962471   591.202412\n",
              "std     269.211470   376.418051\n",
              "min     133.239000   202.614000\n",
              "25%     233.021500   327.769500\n",
              "50%     355.235500   436.712500\n",
              "75%     516.616500   699.735250\n",
              "max    1209.225000  1762.015000"
            ]
          },
          "metadata": {},
          "execution_count": 16
        }
      ]
    },
    {
      "cell_type": "code",
      "source": [
        "df['daily'].plot.hist()"
      ],
      "metadata": {
        "colab": {
          "base_uri": "https://localhost:8080/",
          "height": 282
        },
        "id": "3GA6RT6ETL5N",
        "outputId": "4fe86e8a-363e-4dca-b56a-6a7ae3db54ec"
      },
      "execution_count": 17,
      "outputs": [
        {
          "output_type": "execute_result",
          "data": {
            "text/plain": [
              "<matplotlib.axes._subplots.AxesSubplot at 0x7f8dc468a550>"
            ]
          },
          "metadata": {},
          "execution_count": 17
        },
        {
          "output_type": "display_data",
          "data": {
            "image/png": "[encoded data removed]",
            "text/plain": [
              "<Figure size 432x288 with 1 Axes>"
            ]
          },
          "metadata": {
            "needs_background": "light"
          }
        }
      ]
    },
    {
      "cell_type": "code",
      "source": [
        "df['sunday'].hist()"
      ],
      "metadata": {
        "colab": {
          "base_uri": "https://localhost:8080/",
          "height": 282
        },
        "id": "PS_-pF-STy7R",
        "outputId": "9fb4fe6d-3abe-471a-9c6c-7c1ab9fae2f6"
      },
      "execution_count": 18,
      "outputs": [
        {
          "output_type": "execute_result",
          "data": {
            "text/plain": [
              "<matplotlib.axes._subplots.AxesSubplot at 0x7f8dc45f0b90>"
            ]
          },
          "metadata": {},
          "execution_count": 18
        },
        {
          "output_type": "display_data",
          "data": {
            "image/png": "[encoded data removed]",
            "text/plain": [
              "<Figure size 432x288 with 1 Axes>"
            ]
          },
          "metadata": {
            "needs_background": "light"
          }
        }
      ]
    },
    {
      "cell_type": "code",
      "source": [
        "df.plot.box()"
      ],
      "metadata": {
        "colab": {
          "base_uri": "https://localhost:8080/",
          "height": 282
        },
        "id": "ivPJlPqJUS5c",
        "outputId": "8cf8069e-590a-4915-eff3-8e076bcf95dd"
      },
      "execution_count": 19,
      "outputs": [
        {
          "output_type": "execute_result",
          "data": {
            "text/plain": [
              "<matplotlib.axes._subplots.AxesSubplot at 0x7f8dc4128090>"
            ]
          },
          "metadata": {},
          "execution_count": 19
        },
        {
          "output_type": "display_data",
          "data": {
            "image/png": "[encoded data removed]",
            "text/plain": [
              "<Figure size 432x288 with 1 Axes>"
            ]
          },
          "metadata": {
            "needs_background": "light"
          }
        }
      ]
    },
    {
      "cell_type": "markdown",
      "source": [
        "# From boxplot we can infere that daily column and sunday column has outliers. Both columns are positively skewed"
      ],
      "metadata": {
        "id": "1UXcrpJjmhe9"
      }
    },
    {
      "cell_type": "code",
      "source": [
        "#outliers \n",
        "df[df['daily'] > 900]"
      ],
      "metadata": {
        "colab": {
          "base_uri": "https://localhost:8080/",
          "height": 112
        },
        "id": "Vc6A2Tmime1T",
        "outputId": "2516e651-496d-41ca-b833-2b9bcc905dde"
      },
      "execution_count": 20,
      "outputs": [
        {
          "output_type": "execute_result",
          "data": {
            "text/html": [
              "\n",
              "  <div id=\"df-2135ab61-74e3-4063-94ca-816306dfaf46\">\n",
              "    <div class=\"colab-df-container\">\n",
              "      <div>\n",
              "<style scoped>\n",
              "    .dataframe tbody tr th:only-of-type {\n",
              "        vertical-align: middle;\n",
              "    }\n",
              "\n",
              "    .dataframe tbody tr th {\n",
              "        vertical-align: top;\n",
              "    }\n",
              "\n",
              "    .dataframe thead th {\n",
              "        text-align: right;\n",
              "    }\n",
              "</style>\n",
              "<table border=\"1\" class=\"dataframe\">\n",
              "  <thead>\n",
              "    <tr style=\"text-align: right;\">\n",
              "      <th></th>\n",
              "      <th>Newspaper</th>\n",
              "      <th>daily</th>\n",
              "      <th>sunday</th>\n",
              "    </tr>\n",
              "  </thead>\n",
              "  <tbody>\n",
              "    <tr>\n",
              "      <th>13</th>\n",
              "      <td>Los Angeles Times</td>\n",
              "      <td>1164.388</td>\n",
              "      <td>1531.527</td>\n",
              "    </tr>\n",
              "    <tr>\n",
              "      <th>18</th>\n",
              "      <td>New York Times</td>\n",
              "      <td>1209.225</td>\n",
              "      <td>1762.015</td>\n",
              "    </tr>\n",
              "  </tbody>\n",
              "</table>\n",
              "</div>\n",
              "      <button class=\"colab-df-convert\" onclick=\"convertToInteractive('df-2135ab61-74e3-4063-94ca-816306dfaf46')\"\n",
              "              title=\"Convert this dataframe to an interactive table.\"\n",
              "              style=\"display:none;\">\n",
              "        \n",
              "  <svg xmlns=\"http://www.w3.org/2000/svg\" height=\"24px\"viewBox=\"0 0 24 24\"\n",
              "       width=\"24px\">\n",
              "    <path d=\"M0 0h24v24H0V0z\" fill=\"none\"/>\n",
              "    <path d=\"M18.56 5.44l.94 2.06.94-2.06 2.06-.94-2.06-.94-.94-2.06-.94 2.06-2.06.94zm-11 1L8.5 8.5l.94-2.06 2.06-.94-2.06-.94L8.5 2.5l-.94 2.06-2.06.94zm10 10l.94 2.06.94-2.06 2.06-.94-2.06-.94-.94-2.06-.94 2.06-2.06.94z\"/><path d=\"M17.41 7.96l-1.37-1.37c-.4-.4-.92-.59-1.43-.59-.52 0-1.04.2-1.43.59L10.3 9.45l-7.72 7.72c-.78.78-.78 2.05 0 2.83L4 21.41c.39.39.9.59 1.41.59.51 0 1.02-.2 1.41-.59l7.78-7.78 2.81-2.81c.8-.78.8-2.07 0-2.86zM5.41 20L4 18.59l7.72-7.72 1.47 1.35L5.41 20z\"/>\n",
              "  </svg>\n",
              "      </button>\n",
              "      \n",
              "  <style>\n",
              "    .colab-df-container {\n",
              "      display:flex;\n",
              "      flex-wrap:wrap;\n",
              "      gap: 12px;\n",
              "    }\n",
              "\n",
              "    .colab-df-convert {\n",
              "      background-color: #E8F0FE;\n",
              "      border: none;\n",
              "      border-radius: 50%;\n",
              "      cursor: pointer;\n",
              "      display: none;\n",
              "      fill: #1967D2;\n",
              "      height: 32px;\n",
              "      padding: 0 0 0 0;\n",
              "      width: 32px;\n",
              "    }\n",
              "\n",
              "    .colab-df-convert:hover {\n",
              "      background-color: #E2EBFA;\n",
              "      box-shadow: 0px 1px 2px rgba(60, 64, 67, 0.3), 0px 1px 3px 1px rgba(60, 64, 67, 0.15);\n",
              "      fill: #174EA6;\n",
              "    }\n",
              "\n",
              "    [theme=dark] .colab-df-convert {\n",
              "      background-color: #3B4455;\n",
              "      fill: #D2E3FC;\n",
              "    }\n",
              "\n",
              "    [theme=dark] .colab-df-convert:hover {\n",
              "      background-color: #434B5C;\n",
              "      box-shadow: 0px 1px 3px 1px rgba(0, 0, 0, 0.15);\n",
              "      filter: drop-shadow(0px 1px 2px rgba(0, 0, 0, 0.3));\n",
              "      fill: #FFFFFF;\n",
              "    }\n",
              "  </style>\n",
              "\n",
              "      <script>\n",
              "        const buttonEl =\n",
              "          document.querySelector('#df-2135ab61-74e3-4063-94ca-816306dfaf46 button.colab-df-convert');\n",
              "        buttonEl.style.display =\n",
              "          google.colab.kernel.accessAllowed ? 'block' : 'none';\n",
              "\n",
              "        async function convertToInteractive(key) {\n",
              "          const element = document.querySelector('#df-2135ab61-74e3-4063-94ca-816306dfaf46');\n",
              "          const dataTable =\n",
              "            await google.colab.kernel.invokeFunction('convertToInteractive',\n",
              "                                                     [key], {});\n",
              "          if (!dataTable) return;\n",
              "\n",
              "          const docLinkHtml = 'Like what you see? Visit the ' +\n",
              "            '<a target=\"_blank\" href=https://colab.research.google.com/notebooks/data_table.ipynb>data table notebook</a>'\n",
              "            + ' to learn more about interactive tables.';\n",
              "          element.innerHTML = '';\n",
              "          dataTable['output_type'] = 'display_data';\n",
              "          await google.colab.output.renderOutput(dataTable, element);\n",
              "          const docLink = document.createElement('div');\n",
              "          docLink.innerHTML = docLinkHtml;\n",
              "          element.appendChild(docLink);\n",
              "        }\n",
              "      </script>\n",
              "    </div>\n",
              "  </div>\n",
              "  "
            ],
            "text/plain": [
              "            Newspaper     daily    sunday\n",
              "13  Los Angeles Times  1164.388  1531.527\n",
              "18     New York Times  1209.225  1762.015"
            ]
          },
          "metadata": {},
          "execution_count": 20
        }
      ]
    },
    {
      "cell_type": "code",
      "source": [
        "#Correlation\n",
        "df.corr()"
      ],
      "metadata": {
        "colab": {
          "base_uri": "https://localhost:8080/",
          "height": 112
        },
        "id": "Rgrypxkhnpi-",
        "outputId": "6640bba8-d338-469a-d2c7-7fe94b5987ff"
      },
      "execution_count": 21,
      "outputs": [
        {
          "output_type": "execute_result",
          "data": {
            "text/html": [
              "\n",
              "  <div id=\"df-1001ea02-2a79-4130-90dd-02972b482765\">\n",
              "    <div class=\"colab-df-container\">\n",
              "      <div>\n",
              "<style scoped>\n",
              "    .dataframe tbody tr th:only-of-type {\n",
              "        vertical-align: middle;\n",
              "    }\n",
              "\n",
              "    .dataframe tbody tr th {\n",
              "        vertical-align: top;\n",
              "    }\n",
              "\n",
              "    .dataframe thead th {\n",
              "        text-align: right;\n",
              "    }\n",
              "</style>\n",
              "<table border=\"1\" class=\"dataframe\">\n",
              "  <thead>\n",
              "    <tr style=\"text-align: right;\">\n",
              "      <th></th>\n",
              "      <th>daily</th>\n",
              "      <th>sunday</th>\n",
              "    </tr>\n",
              "  </thead>\n",
              "  <tbody>\n",
              "    <tr>\n",
              "      <th>daily</th>\n",
              "      <td>1.000000</td>\n",
              "      <td>0.958154</td>\n",
              "    </tr>\n",
              "    <tr>\n",
              "      <th>sunday</th>\n",
              "      <td>0.958154</td>\n",
              "      <td>1.000000</td>\n",
              "    </tr>\n",
              "  </tbody>\n",
              "</table>\n",
              "</div>\n",
              "      <button class=\"colab-df-convert\" onclick=\"convertToInteractive('df-1001ea02-2a79-4130-90dd-02972b482765')\"\n",
              "              title=\"Convert this dataframe to an interactive table.\"\n",
              "              style=\"display:none;\">\n",
              "        \n",
              "  <svg xmlns=\"http://www.w3.org/2000/svg\" height=\"24px\"viewBox=\"0 0 24 24\"\n",
              "       width=\"24px\">\n",
              "    <path d=\"M0 0h24v24H0V0z\" fill=\"none\"/>\n",
              "    <path d=\"M18.56 5.44l.94 2.06.94-2.06 2.06-.94-2.06-.94-.94-2.06-.94 2.06-2.06.94zm-11 1L8.5 8.5l.94-2.06 2.06-.94-2.06-.94L8.5 2.5l-.94 2.06-2.06.94zm10 10l.94 2.06.94-2.06 2.06-.94-2.06-.94-.94-2.06-.94 2.06-2.06.94z\"/><path d=\"M17.41 7.96l-1.37-1.37c-.4-.4-.92-.59-1.43-.59-.52 0-1.04.2-1.43.59L10.3 9.45l-7.72 7.72c-.78.78-.78 2.05 0 2.83L4 21.41c.39.39.9.59 1.41.59.51 0 1.02-.2 1.41-.59l7.78-7.78 2.81-2.81c.8-.78.8-2.07 0-2.86zM5.41 20L4 18.59l7.72-7.72 1.47 1.35L5.41 20z\"/>\n",
              "  </svg>\n",
              "      </button>\n",
              "      \n",
              "  <style>\n",
              "    .colab-df-container {\n",
              "      display:flex;\n",
              "      flex-wrap:wrap;\n",
              "      gap: 12px;\n",
              "    }\n",
              "\n",
              "    .colab-df-convert {\n",
              "      background-color: #E8F0FE;\n",
              "      border: none;\n",
              "      border-radius: 50%;\n",
              "      cursor: pointer;\n",
              "      display: none;\n",
              "      fill: #1967D2;\n",
              "      height: 32px;\n",
              "      padding: 0 0 0 0;\n",
              "      width: 32px;\n",
              "    }\n",
              "\n",
              "    .colab-df-convert:hover {\n",
              "      background-color: #E2EBFA;\n",
              "      box-shadow: 0px 1px 2px rgba(60, 64, 67, 0.3), 0px 1px 3px 1px rgba(60, 64, 67, 0.15);\n",
              "      fill: #174EA6;\n",
              "    }\n",
              "\n",
              "    [theme=dark] .colab-df-convert {\n",
              "      background-color: #3B4455;\n",
              "      fill: #D2E3FC;\n",
              "    }\n",
              "\n",
              "    [theme=dark] .colab-df-convert:hover {\n",
              "      background-color: #434B5C;\n",
              "      box-shadow: 0px 1px 3px 1px rgba(0, 0, 0, 0.15);\n",
              "      filter: drop-shadow(0px 1px 2px rgba(0, 0, 0, 0.3));\n",
              "      fill: #FFFFFF;\n",
              "    }\n",
              "  </style>\n",
              "\n",
              "      <script>\n",
              "        const buttonEl =\n",
              "          document.querySelector('#df-1001ea02-2a79-4130-90dd-02972b482765 button.colab-df-convert');\n",
              "        buttonEl.style.display =\n",
              "          google.colab.kernel.accessAllowed ? 'block' : 'none';\n",
              "\n",
              "        async function convertToInteractive(key) {\n",
              "          const element = document.querySelector('#df-1001ea02-2a79-4130-90dd-02972b482765');\n",
              "          const dataTable =\n",
              "            await google.colab.kernel.invokeFunction('convertToInteractive',\n",
              "                                                     [key], {});\n",
              "          if (!dataTable) return;\n",
              "\n",
              "          const docLinkHtml = 'Like what you see? Visit the ' +\n",
              "            '<a target=\"_blank\" href=https://colab.research.google.com/notebooks/data_table.ipynb>data table notebook</a>'\n",
              "            + ' to learn more about interactive tables.';\n",
              "          element.innerHTML = '';\n",
              "          dataTable['output_type'] = 'display_data';\n",
              "          await google.colab.output.renderOutput(dataTable, element);\n",
              "          const docLink = document.createElement('div');\n",
              "          docLink.innerHTML = docLinkHtml;\n",
              "          element.appendChild(docLink);\n",
              "        }\n",
              "      </script>\n",
              "    </div>\n",
              "  </div>\n",
              "  "
            ],
            "text/plain": [
              "           daily    sunday\n",
              "daily   1.000000  0.958154\n",
              "sunday  0.958154  1.000000"
            ]
          },
          "metadata": {},
          "execution_count": 21
        }
      ]
    },
    {
      "cell_type": "code",
      "source": [
        "import seaborn as sns\n",
        "sns.relplot(x = 'daily', y = 'sunday', data = df)"
      ],
      "metadata": {
        "colab": {
          "base_uri": "https://localhost:8080/",
          "height": 386
        },
        "id": "EYqZJrmkoQ-I",
        "outputId": "4861c3b9-23e4-4818-c5a6-5825322647b1"
      },
      "execution_count": 22,
      "outputs": [
        {
          "output_type": "execute_result",
          "data": {
            "text/plain": [
              "<seaborn.axisgrid.FacetGrid at 0x7f8db52e7f50>"
            ]
          },
          "metadata": {},
          "execution_count": 22
        },
        {
          "output_type": "display_data",
          "data": {
            "image/png": "[encoded data removed]",
            "text/plain": [
              "<Figure size 360x360 with 1 Axes>"
            ]
          },
          "metadata": {
            "needs_background": "light"
          }
        }
      ]
    },
    {
      "cell_type": "markdown",
      "source": [
        "### Both numerical columns have correlation coefficient of 0.95 That means they are is linear relationship. observation which are outlier in daily column has corresponding outlier values in sunday column"
      ],
      "metadata": {
        "id": "WfJG7OGBn8dM"
      }
    },
    {
      "cell_type": "markdown",
      "source": [
        "#**Model Building** "
      ],
      "metadata": {
        "id": "ohwX-ObauEVI"
      }
    },
    {
      "cell_type": "markdown",
      "source": [
        "## Model 1"
      ],
      "metadata": {
        "id": "U0QBx4s3ulVR"
      }
    },
    {
      "cell_type": "code",
      "source": [
        "import statsmodels.formula.api as smf"
      ],
      "metadata": {
        "id": "EisFJwlTn6mL",
        "colab": {
          "base_uri": "https://localhost:8080/"
        },
        "outputId": "95fd70eb-d0c1-4c90-8a71-849ea45c261c"
      },
      "execution_count": 23,
      "outputs": [
        {
          "output_type": "stream",
          "name": "stderr",
          "text": [
            "/usr/local/lib/python3.7/dist-packages/statsmodels/tools/_testing.py:19: FutureWarning: pandas.util.testing is deprecated. Use the functions in the public API at pandas.testing instead.\n",
            "  import pandas.util.testing as tm\n"
          ]
        }
      ]
    },
    {
      "cell_type": "code",
      "source": [
        "model = smf.ols('sunday~daily', data = df)"
      ],
      "metadata": {
        "id": "iWwLEto5qUz6"
      },
      "execution_count": 24,
      "outputs": []
    },
    {
      "cell_type": "code",
      "source": [
        "print('parameters:',model.fit().params)\n",
        "print('t-value and p-value:',model.fit().tvalues, model.fit().pvalues)"
      ],
      "metadata": {
        "colab": {
          "base_uri": "https://localhost:8080/"
        },
        "id": "WgDbQ_MjqpuT",
        "outputId": "84565615-6980-43b0-e208-73db3049e444"
      },
      "execution_count": 25,
      "outputs": [
        {
          "output_type": "stream",
          "name": "stdout",
          "text": [
            "parameters: Intercept    13.835630\n",
            "daily         1.339715\n",
            "dtype: float64\n",
            "t-value and p-value: Intercept     0.386427\n",
            "daily        18.934840\n",
            "dtype: float64 Intercept    7.017382e-01\n",
            "daily        6.016802e-19\n",
            "dtype: float64\n"
          ]
        }
      ]
    },
    {
      "cell_type": "code",
      "source": [
        "model.fit().rsquared"
      ],
      "metadata": {
        "colab": {
          "base_uri": "https://localhost:8080/"
        },
        "id": "fMtkcra1s0cL",
        "outputId": "770583e9-8694-41e0-8ba0-b79df95f5664"
      },
      "execution_count": 26,
      "outputs": [
        {
          "output_type": "execute_result",
          "data": {
            "text/plain": [
              "0.9180596895873295"
            ]
          },
          "metadata": {},
          "execution_count": 26
        }
      ]
    },
    {
      "cell_type": "code",
      "source": [
        "model.fit().rsquared_adj"
      ],
      "metadata": {
        "colab": {
          "base_uri": "https://localhost:8080/"
        },
        "id": "X07e5qhNtxK2",
        "outputId": "c476f2ad-3ab8-49c1-e399-e3b8425e9068"
      },
      "execution_count": 27,
      "outputs": [
        {
          "output_type": "execute_result",
          "data": {
            "text/plain": [
              "0.9154990548869336"
            ]
          },
          "metadata": {},
          "execution_count": 27
        }
      ]
    },
    {
      "cell_type": "markdown",
      "source": [
        "## Model 2"
      ],
      "metadata": {
        "id": "Q0UfCAHjusaL"
      }
    },
    {
      "cell_type": "markdown",
      "source": [
        "### let's remove outliers and build new model"
      ],
      "metadata": {
        "id": "HOP9LnDiuxUw"
      }
    },
    {
      "cell_type": "code",
      "source": [
        "df2 = df[:]"
      ],
      "metadata": {
        "id": "mZfn8h26t8r6"
      },
      "execution_count": 28,
      "outputs": []
    },
    {
      "cell_type": "code",
      "source": [
        "df2[df2['daily'] > 900]"
      ],
      "metadata": {
        "colab": {
          "base_uri": "https://localhost:8080/",
          "height": 112
        },
        "id": "IlqjFZYkvIf4",
        "outputId": "7a538d5d-c521-49e4-b362-0a728588d1db"
      },
      "execution_count": 29,
      "outputs": [
        {
          "output_type": "execute_result",
          "data": {
            "text/html": [
              "\n",
              "  <div id=\"df-45017c68-983a-4799-b2ce-6784cdacb341\">\n",
              "    <div class=\"colab-df-container\">\n",
              "      <div>\n",
              "<style scoped>\n",
              "    .dataframe tbody tr th:only-of-type {\n",
              "        vertical-align: middle;\n",
              "    }\n",
              "\n",
              "    .dataframe tbody tr th {\n",
              "        vertical-align: top;\n",
              "    }\n",
              "\n",
              "    .dataframe thead th {\n",
              "        text-align: right;\n",
              "    }\n",
              "</style>\n",
              "<table border=\"1\" class=\"dataframe\">\n",
              "  <thead>\n",
              "    <tr style=\"text-align: right;\">\n",
              "      <th></th>\n",
              "      <th>Newspaper</th>\n",
              "      <th>daily</th>\n",
              "      <th>sunday</th>\n",
              "    </tr>\n",
              "  </thead>\n",
              "  <tbody>\n",
              "    <tr>\n",
              "      <th>13</th>\n",
              "      <td>Los Angeles Times</td>\n",
              "      <td>1164.388</td>\n",
              "      <td>1531.527</td>\n",
              "    </tr>\n",
              "    <tr>\n",
              "      <th>18</th>\n",
              "      <td>New York Times</td>\n",
              "      <td>1209.225</td>\n",
              "      <td>1762.015</td>\n",
              "    </tr>\n",
              "  </tbody>\n",
              "</table>\n",
              "</div>\n",
              "      <button class=\"colab-df-convert\" onclick=\"convertToInteractive('df-45017c68-983a-4799-b2ce-6784cdacb341')\"\n",
              "              title=\"Convert this dataframe to an interactive table.\"\n",
              "              style=\"display:none;\">\n",
              "        \n",
              "  <svg xmlns=\"http://www.w3.org/2000/svg\" height=\"24px\"viewBox=\"0 0 24 24\"\n",
              "       width=\"24px\">\n",
              "    <path d=\"M0 0h24v24H0V0z\" fill=\"none\"/>\n",
              "    <path d=\"M18.56 5.44l.94 2.06.94-2.06 2.06-.94-2.06-.94-.94-2.06-.94 2.06-2.06.94zm-11 1L8.5 8.5l.94-2.06 2.06-.94-2.06-.94L8.5 2.5l-.94 2.06-2.06.94zm10 10l.94 2.06.94-2.06 2.06-.94-2.06-.94-.94-2.06-.94 2.06-2.06.94z\"/><path d=\"M17.41 7.96l-1.37-1.37c-.4-.4-.92-.59-1.43-.59-.52 0-1.04.2-1.43.59L10.3 9.45l-7.72 7.72c-.78.78-.78 2.05 0 2.83L4 21.41c.39.39.9.59 1.41.59.51 0 1.02-.2 1.41-.59l7.78-7.78 2.81-2.81c.8-.78.8-2.07 0-2.86zM5.41 20L4 18.59l7.72-7.72 1.47 1.35L5.41 20z\"/>\n",
              "  </svg>\n",
              "      </button>\n",
              "      \n",
              "  <style>\n",
              "    .colab-df-container {\n",
              "      display:flex;\n",
              "      flex-wrap:wrap;\n",
              "      gap: 12px;\n",
              "    }\n",
              "\n",
              "    .colab-df-convert {\n",
              "      background-color: #E8F0FE;\n",
              "      border: none;\n",
              "      border-radius: 50%;\n",
              "      cursor: pointer;\n",
              "      display: none;\n",
              "      fill: #1967D2;\n",
              "      height: 32px;\n",
              "      padding: 0 0 0 0;\n",
              "      width: 32px;\n",
              "    }\n",
              "\n",
              "    .colab-df-convert:hover {\n",
              "      background-color: #E2EBFA;\n",
              "      box-shadow: 0px 1px 2px rgba(60, 64, 67, 0.3), 0px 1px 3px 1px rgba(60, 64, 67, 0.15);\n",
              "      fill: #174EA6;\n",
              "    }\n",
              "\n",
              "    [theme=dark] .colab-df-convert {\n",
              "      background-color: #3B4455;\n",
              "      fill: #D2E3FC;\n",
              "    }\n",
              "\n",
              "    [theme=dark] .colab-df-convert:hover {\n",
              "      background-color: #434B5C;\n",
              "      box-shadow: 0px 1px 3px 1px rgba(0, 0, 0, 0.15);\n",
              "      filter: drop-shadow(0px 1px 2px rgba(0, 0, 0, 0.3));\n",
              "      fill: #FFFFFF;\n",
              "    }\n",
              "  </style>\n",
              "\n",
              "      <script>\n",
              "        const buttonEl =\n",
              "          document.querySelector('#df-45017c68-983a-4799-b2ce-6784cdacb341 button.colab-df-convert');\n",
              "        buttonEl.style.display =\n",
              "          google.colab.kernel.accessAllowed ? 'block' : 'none';\n",
              "\n",
              "        async function convertToInteractive(key) {\n",
              "          const element = document.querySelector('#df-45017c68-983a-4799-b2ce-6784cdacb341');\n",
              "          const dataTable =\n",
              "            await google.colab.kernel.invokeFunction('convertToInteractive',\n",
              "                                                     [key], {});\n",
              "          if (!dataTable) return;\n",
              "\n",
              "          const docLinkHtml = 'Like what you see? Visit the ' +\n",
              "            '<a target=\"_blank\" href=https://colab.research.google.com/notebooks/data_table.ipynb>data table notebook</a>'\n",
              "            + ' to learn more about interactive tables.';\n",
              "          element.innerHTML = '';\n",
              "          dataTable['output_type'] = 'display_data';\n",
              "          await google.colab.output.renderOutput(dataTable, element);\n",
              "          const docLink = document.createElement('div');\n",
              "          docLink.innerHTML = docLinkHtml;\n",
              "          element.appendChild(docLink);\n",
              "        }\n",
              "      </script>\n",
              "    </div>\n",
              "  </div>\n",
              "  "
            ],
            "text/plain": [
              "            Newspaper     daily    sunday\n",
              "13  Los Angeles Times  1164.388  1531.527\n",
              "18     New York Times  1209.225  1762.015"
            ]
          },
          "metadata": {},
          "execution_count": 29
        }
      ]
    },
    {
      "cell_type": "code",
      "source": [
        "df2.drop([13,18], inplace = True)"
      ],
      "metadata": {
        "id": "DEm1Mm0BvNOU",
        "colab": {
          "base_uri": "https://localhost:8080/"
        },
        "outputId": "68717bfa-0bd9-431a-9484-d2443d597dcc"
      },
      "execution_count": 30,
      "outputs": [
        {
          "output_type": "stream",
          "name": "stderr",
          "text": [
            "/usr/local/lib/python3.7/dist-packages/pandas/core/frame.py:4174: SettingWithCopyWarning: \n",
            "A value is trying to be set on a copy of a slice from a DataFrame\n",
            "\n",
            "See the caveats in the documentation: https://pandas.pydata.org/pandas-docs/stable/user_guide/indexing.html#returning-a-view-versus-a-copy\n",
            "  errors=errors,\n"
          ]
        }
      ]
    },
    {
      "cell_type": "code",
      "source": [
        "df2"
      ],
      "metadata": {
        "colab": {
          "base_uri": "https://localhost:8080/",
          "height": 1000
        },
        "id": "PxtAagemxRje",
        "outputId": "597383a8-cf61-461b-f237-02dd5b7e65fe"
      },
      "execution_count": 31,
      "outputs": [
        {
          "output_type": "execute_result",
          "data": {
            "text/html": [
              "\n",
              "  <div id=\"df-8c84ce3d-8384-490a-a19b-65b84f14f21d\">\n",
              "    <div class=\"colab-df-container\">\n",
              "      <div>\n",
              "<style scoped>\n",
              "    .dataframe tbody tr th:only-of-type {\n",
              "        vertical-align: middle;\n",
              "    }\n",
              "\n",
              "    .dataframe tbody tr th {\n",
              "        vertical-align: top;\n",
              "    }\n",
              "\n",
              "    .dataframe thead th {\n",
              "        text-align: right;\n",
              "    }\n",
              "</style>\n",
              "<table border=\"1\" class=\"dataframe\">\n",
              "  <thead>\n",
              "    <tr style=\"text-align: right;\">\n",
              "      <th></th>\n",
              "      <th>Newspaper</th>\n",
              "      <th>daily</th>\n",
              "      <th>sunday</th>\n",
              "    </tr>\n",
              "  </thead>\n",
              "  <tbody>\n",
              "    <tr>\n",
              "      <th>0</th>\n",
              "      <td>Baltimore Sun</td>\n",
              "      <td>391.952</td>\n",
              "      <td>488.506</td>\n",
              "    </tr>\n",
              "    <tr>\n",
              "      <th>1</th>\n",
              "      <td>Boston Globe</td>\n",
              "      <td>516.981</td>\n",
              "      <td>798.298</td>\n",
              "    </tr>\n",
              "    <tr>\n",
              "      <th>2</th>\n",
              "      <td>Boston Herald</td>\n",
              "      <td>355.628</td>\n",
              "      <td>235.084</td>\n",
              "    </tr>\n",
              "    <tr>\n",
              "      <th>3</th>\n",
              "      <td>Charlotte Observer</td>\n",
              "      <td>238.555</td>\n",
              "      <td>299.451</td>\n",
              "    </tr>\n",
              "    <tr>\n",
              "      <th>4</th>\n",
              "      <td>Chicago Sun Times</td>\n",
              "      <td>537.780</td>\n",
              "      <td>559.093</td>\n",
              "    </tr>\n",
              "    <tr>\n",
              "      <th>5</th>\n",
              "      <td>Chicago Tribune</td>\n",
              "      <td>733.775</td>\n",
              "      <td>1133.249</td>\n",
              "    </tr>\n",
              "    <tr>\n",
              "      <th>6</th>\n",
              "      <td>Cincinnati Enquirer</td>\n",
              "      <td>198.832</td>\n",
              "      <td>348.744</td>\n",
              "    </tr>\n",
              "    <tr>\n",
              "      <th>7</th>\n",
              "      <td>Denver Post</td>\n",
              "      <td>252.624</td>\n",
              "      <td>417.779</td>\n",
              "    </tr>\n",
              "    <tr>\n",
              "      <th>8</th>\n",
              "      <td>Des Moines Register</td>\n",
              "      <td>206.204</td>\n",
              "      <td>344.522</td>\n",
              "    </tr>\n",
              "    <tr>\n",
              "      <th>9</th>\n",
              "      <td>Hartford Courant</td>\n",
              "      <td>231.177</td>\n",
              "      <td>323.084</td>\n",
              "    </tr>\n",
              "    <tr>\n",
              "      <th>10</th>\n",
              "      <td>Houston Chronicle</td>\n",
              "      <td>449.755</td>\n",
              "      <td>620.752</td>\n",
              "    </tr>\n",
              "    <tr>\n",
              "      <th>11</th>\n",
              "      <td>Kansas City Star</td>\n",
              "      <td>288.571</td>\n",
              "      <td>423.305</td>\n",
              "    </tr>\n",
              "    <tr>\n",
              "      <th>12</th>\n",
              "      <td>Los Angeles Daily  News</td>\n",
              "      <td>185.736</td>\n",
              "      <td>202.614</td>\n",
              "    </tr>\n",
              "    <tr>\n",
              "      <th>14</th>\n",
              "      <td>Miami Herald</td>\n",
              "      <td>444.581</td>\n",
              "      <td>553.479</td>\n",
              "    </tr>\n",
              "    <tr>\n",
              "      <th>15</th>\n",
              "      <td>Minneapolis Star Tribune</td>\n",
              "      <td>412.871</td>\n",
              "      <td>685.975</td>\n",
              "    </tr>\n",
              "    <tr>\n",
              "      <th>16</th>\n",
              "      <td>New Orleans Times-Picayune</td>\n",
              "      <td>272.280</td>\n",
              "      <td>324.241</td>\n",
              "    </tr>\n",
              "    <tr>\n",
              "      <th>17</th>\n",
              "      <td>New York Daily News</td>\n",
              "      <td>781.796</td>\n",
              "      <td>983.240</td>\n",
              "    </tr>\n",
              "    <tr>\n",
              "      <th>19</th>\n",
              "      <td>Newsday</td>\n",
              "      <td>825.512</td>\n",
              "      <td>960.308</td>\n",
              "    </tr>\n",
              "    <tr>\n",
              "      <th>20</th>\n",
              "      <td>Omaha World Herald</td>\n",
              "      <td>223.748</td>\n",
              "      <td>284.611</td>\n",
              "    </tr>\n",
              "    <tr>\n",
              "      <th>21</th>\n",
              "      <td>Orange County Register</td>\n",
              "      <td>354.843</td>\n",
              "      <td>407.760</td>\n",
              "    </tr>\n",
              "    <tr>\n",
              "      <th>22</th>\n",
              "      <td>Philadelphia Inquirer</td>\n",
              "      <td>515.523</td>\n",
              "      <td>982.663</td>\n",
              "    </tr>\n",
              "    <tr>\n",
              "      <th>23</th>\n",
              "      <td>Pittsburgh Press</td>\n",
              "      <td>220.465</td>\n",
              "      <td>557.000</td>\n",
              "    </tr>\n",
              "    <tr>\n",
              "      <th>24</th>\n",
              "      <td>Portland Oregonian</td>\n",
              "      <td>337.672</td>\n",
              "      <td>440.923</td>\n",
              "    </tr>\n",
              "    <tr>\n",
              "      <th>25</th>\n",
              "      <td>Providence Journal-Bulletin</td>\n",
              "      <td>197.120</td>\n",
              "      <td>268.060</td>\n",
              "    </tr>\n",
              "    <tr>\n",
              "      <th>26</th>\n",
              "      <td>Rochester Democrat &amp; Chronicle</td>\n",
              "      <td>133.239</td>\n",
              "      <td>262.048</td>\n",
              "    </tr>\n",
              "    <tr>\n",
              "      <th>27</th>\n",
              "      <td>Rocky Mountain News</td>\n",
              "      <td>374.009</td>\n",
              "      <td>432.502</td>\n",
              "    </tr>\n",
              "    <tr>\n",
              "      <th>28</th>\n",
              "      <td>Sacramento Bee</td>\n",
              "      <td>273.844</td>\n",
              "      <td>338.355</td>\n",
              "    </tr>\n",
              "    <tr>\n",
              "      <th>29</th>\n",
              "      <td>San Francisco Chronicle</td>\n",
              "      <td>570.364</td>\n",
              "      <td>704.322</td>\n",
              "    </tr>\n",
              "    <tr>\n",
              "      <th>30</th>\n",
              "      <td>St. Louis Post-Dispatch</td>\n",
              "      <td>391.286</td>\n",
              "      <td>585.681</td>\n",
              "    </tr>\n",
              "    <tr>\n",
              "      <th>31</th>\n",
              "      <td>St. Paul Pioneer Press</td>\n",
              "      <td>201.860</td>\n",
              "      <td>267.781</td>\n",
              "    </tr>\n",
              "    <tr>\n",
              "      <th>32</th>\n",
              "      <td>Tampa Tribune</td>\n",
              "      <td>321.626</td>\n",
              "      <td>408.343</td>\n",
              "    </tr>\n",
              "    <tr>\n",
              "      <th>33</th>\n",
              "      <td>Washington Post</td>\n",
              "      <td>838.902</td>\n",
              "      <td>1165.567</td>\n",
              "    </tr>\n",
              "  </tbody>\n",
              "</table>\n",
              "</div>\n",
              "      <button class=\"colab-df-convert\" onclick=\"convertToInteractive('df-8c84ce3d-8384-490a-a19b-65b84f14f21d')\"\n",
              "              title=\"Convert this dataframe to an interactive table.\"\n",
              "              style=\"display:none;\">\n",
              "        \n",
              "  <svg xmlns=\"http://www.w3.org/2000/svg\" height=\"24px\"viewBox=\"0 0 24 24\"\n",
              "       width=\"24px\">\n",
              "    <path d=\"M0 0h24v24H0V0z\" fill=\"none\"/>\n",
              "    <path d=\"M18.56 5.44l.94 2.06.94-2.06 2.06-.94-2.06-.94-.94-2.06-.94 2.06-2.06.94zm-11 1L8.5 8.5l.94-2.06 2.06-.94-2.06-.94L8.5 2.5l-.94 2.06-2.06.94zm10 10l.94 2.06.94-2.06 2.06-.94-2.06-.94-.94-2.06-.94 2.06-2.06.94z\"/><path d=\"M17.41 7.96l-1.37-1.37c-.4-.4-.92-.59-1.43-.59-.52 0-1.04.2-1.43.59L10.3 9.45l-7.72 7.72c-.78.78-.78 2.05 0 2.83L4 21.41c.39.39.9.59 1.41.59.51 0 1.02-.2 1.41-.59l7.78-7.78 2.81-2.81c.8-.78.8-2.07 0-2.86zM5.41 20L4 18.59l7.72-7.72 1.47 1.35L5.41 20z\"/>\n",
              "  </svg>\n",
              "      </button>\n",
              "      \n",
              "  <style>\n",
              "    .colab-df-container {\n",
              "      display:flex;\n",
              "      flex-wrap:wrap;\n",
              "      gap: 12px;\n",
              "    }\n",
              "\n",
              "    .colab-df-convert {\n",
              "      background-color: #E8F0FE;\n",
              "      border: none;\n",
              "      border-radius: 50%;\n",
              "      cursor: pointer;\n",
              "      display: none;\n",
              "      fill: #1967D2;\n",
              "      height: 32px;\n",
              "      padding: 0 0 0 0;\n",
              "      width: 32px;\n",
              "    }\n",
              "\n",
              "    .colab-df-convert:hover {\n",
              "      background-color: #E2EBFA;\n",
              "      box-shadow: 0px 1px 2px rgba(60, 64, 67, 0.3), 0px 1px 3px 1px rgba(60, 64, 67, 0.15);\n",
              "      fill: #174EA6;\n",
              "    }\n",
              "\n",
              "    [theme=dark] .colab-df-convert {\n",
              "      background-color: #3B4455;\n",
              "      fill: #D2E3FC;\n",
              "    }\n",
              "\n",
              "    [theme=dark] .colab-df-convert:hover {\n",
              "      background-color: #434B5C;\n",
              "      box-shadow: 0px 1px 3px 1px rgba(0, 0, 0, 0.15);\n",
              "      filter: drop-shadow(0px 1px 2px rgba(0, 0, 0, 0.3));\n",
              "      fill: #FFFFFF;\n",
              "    }\n",
              "  </style>\n",
              "\n",
              "      <script>\n",
              "        const buttonEl =\n",
              "          document.querySelector('#df-8c84ce3d-8384-490a-a19b-65b84f14f21d button.colab-df-convert');\n",
              "        buttonEl.style.display =\n",
              "          google.colab.kernel.accessAllowed ? 'block' : 'none';\n",
              "\n",
              "        async function convertToInteractive(key) {\n",
              "          const element = document.querySelector('#df-8c84ce3d-8384-490a-a19b-65b84f14f21d');\n",
              "          const dataTable =\n",
              "            await google.colab.kernel.invokeFunction('convertToInteractive',\n",
              "                                                     [key], {});\n",
              "          if (!dataTable) return;\n",
              "\n",
              "          const docLinkHtml = 'Like what you see? Visit the ' +\n",
              "            '<a target=\"_blank\" href=https://colab.research.google.com/notebooks/data_table.ipynb>data table notebook</a>'\n",
              "            + ' to learn more about interactive tables.';\n",
              "          element.innerHTML = '';\n",
              "          dataTable['output_type'] = 'display_data';\n",
              "          await google.colab.output.renderOutput(dataTable, element);\n",
              "          const docLink = document.createElement('div');\n",
              "          docLink.innerHTML = docLinkHtml;\n",
              "          element.appendChild(docLink);\n",
              "        }\n",
              "      </script>\n",
              "    </div>\n",
              "  </div>\n",
              "  "
            ],
            "text/plain": [
              "                         Newspaper    daily    sunday\n",
              "0                    Baltimore Sun  391.952   488.506\n",
              "1                     Boston Globe  516.981   798.298\n",
              "2                    Boston Herald  355.628   235.084\n",
              "3               Charlotte Observer  238.555   299.451\n",
              "4                Chicago Sun Times  537.780   559.093\n",
              "5                  Chicago Tribune  733.775  1133.249\n",
              "6              Cincinnati Enquirer  198.832   348.744\n",
              "7                      Denver Post  252.624   417.779\n",
              "8              Des Moines Register  206.204   344.522\n",
              "9                 Hartford Courant  231.177   323.084\n",
              "10               Houston Chronicle  449.755   620.752\n",
              "11                Kansas City Star  288.571   423.305\n",
              "12         Los Angeles Daily  News  185.736   202.614\n",
              "14                    Miami Herald  444.581   553.479\n",
              "15        Minneapolis Star Tribune  412.871   685.975\n",
              "16      New Orleans Times-Picayune  272.280   324.241\n",
              "17             New York Daily News  781.796   983.240\n",
              "19                         Newsday  825.512   960.308\n",
              "20              Omaha World Herald  223.748   284.611\n",
              "21          Orange County Register  354.843   407.760\n",
              "22           Philadelphia Inquirer  515.523   982.663\n",
              "23                Pittsburgh Press  220.465   557.000\n",
              "24              Portland Oregonian  337.672   440.923\n",
              "25     Providence Journal-Bulletin  197.120   268.060\n",
              "26  Rochester Democrat & Chronicle  133.239   262.048\n",
              "27             Rocky Mountain News  374.009   432.502\n",
              "28                  Sacramento Bee  273.844   338.355\n",
              "29         San Francisco Chronicle  570.364   704.322\n",
              "30         St. Louis Post-Dispatch  391.286   585.681\n",
              "31          St. Paul Pioneer Press  201.860   267.781\n",
              "32                   Tampa Tribune  321.626   408.343\n",
              "33                 Washington Post  838.902  1165.567"
            ]
          },
          "metadata": {},
          "execution_count": 31
        }
      ]
    },
    {
      "cell_type": "code",
      "source": [
        "df2.reset_index(inplace = True)"
      ],
      "metadata": {
        "id": "Iq2hmiMLxdzK"
      },
      "execution_count": 32,
      "outputs": []
    },
    {
      "cell_type": "code",
      "source": [
        "df2.drop('index', axis = 1, inplace = True)"
      ],
      "metadata": {
        "id": "z_O5ep5Hx-Li",
        "colab": {
          "base_uri": "https://localhost:8080/"
        },
        "outputId": "bb36ae16-5dea-4c11-f2b1-f4abe11c3e29"
      },
      "execution_count": 33,
      "outputs": [
        {
          "output_type": "stream",
          "name": "stderr",
          "text": [
            "/usr/local/lib/python3.7/dist-packages/pandas/core/frame.py:4174: SettingWithCopyWarning: \n",
            "A value is trying to be set on a copy of a slice from a DataFrame\n",
            "\n",
            "See the caveats in the documentation: https://pandas.pydata.org/pandas-docs/stable/user_guide/indexing.html#returning-a-view-versus-a-copy\n",
            "  errors=errors,\n"
          ]
        }
      ]
    },
    {
      "cell_type": "code",
      "source": [
        "df2"
      ],
      "metadata": {
        "colab": {
          "base_uri": "https://localhost:8080/",
          "height": 1000
        },
        "id": "jxnVSJZsx-Ar",
        "outputId": "8f189429-08ba-45c1-c17f-b1eb2b273f59"
      },
      "execution_count": 34,
      "outputs": [
        {
          "output_type": "execute_result",
          "data": {
            "text/html": [
              "\n",
              "  <div id=\"df-a665fc59-4da6-4c64-8ec2-b0a17438d848\">\n",
              "    <div class=\"colab-df-container\">\n",
              "      <div>\n",
              "<style scoped>\n",
              "    .dataframe tbody tr th:only-of-type {\n",
              "        vertical-align: middle;\n",
              "    }\n",
              "\n",
              "    .dataframe tbody tr th {\n",
              "        vertical-align: top;\n",
              "    }\n",
              "\n",
              "    .dataframe thead th {\n",
              "        text-align: right;\n",
              "    }\n",
              "</style>\n",
              "<table border=\"1\" class=\"dataframe\">\n",
              "  <thead>\n",
              "    <tr style=\"text-align: right;\">\n",
              "      <th></th>\n",
              "      <th>Newspaper</th>\n",
              "      <th>daily</th>\n",
              "      <th>sunday</th>\n",
              "    </tr>\n",
              "  </thead>\n",
              "  <tbody>\n",
              "    <tr>\n",
              "      <th>0</th>\n",
              "      <td>Baltimore Sun</td>\n",
              "      <td>391.952</td>\n",
              "      <td>488.506</td>\n",
              "    </tr>\n",
              "    <tr>\n",
              "      <th>1</th>\n",
              "      <td>Boston Globe</td>\n",
              "      <td>516.981</td>\n",
              "      <td>798.298</td>\n",
              "    </tr>\n",
              "    <tr>\n",
              "      <th>2</th>\n",
              "      <td>Boston Herald</td>\n",
              "      <td>355.628</td>\n",
              "      <td>235.084</td>\n",
              "    </tr>\n",
              "    <tr>\n",
              "      <th>3</th>\n",
              "      <td>Charlotte Observer</td>\n",
              "      <td>238.555</td>\n",
              "      <td>299.451</td>\n",
              "    </tr>\n",
              "    <tr>\n",
              "      <th>4</th>\n",
              "      <td>Chicago Sun Times</td>\n",
              "      <td>537.780</td>\n",
              "      <td>559.093</td>\n",
              "    </tr>\n",
              "    <tr>\n",
              "      <th>5</th>\n",
              "      <td>Chicago Tribune</td>\n",
              "      <td>733.775</td>\n",
              "      <td>1133.249</td>\n",
              "    </tr>\n",
              "    <tr>\n",
              "      <th>6</th>\n",
              "      <td>Cincinnati Enquirer</td>\n",
              "      <td>198.832</td>\n",
              "      <td>348.744</td>\n",
              "    </tr>\n",
              "    <tr>\n",
              "      <th>7</th>\n",
              "      <td>Denver Post</td>\n",
              "      <td>252.624</td>\n",
              "      <td>417.779</td>\n",
              "    </tr>\n",
              "    <tr>\n",
              "      <th>8</th>\n",
              "      <td>Des Moines Register</td>\n",
              "      <td>206.204</td>\n",
              "      <td>344.522</td>\n",
              "    </tr>\n",
              "    <tr>\n",
              "      <th>9</th>\n",
              "      <td>Hartford Courant</td>\n",
              "      <td>231.177</td>\n",
              "      <td>323.084</td>\n",
              "    </tr>\n",
              "    <tr>\n",
              "      <th>10</th>\n",
              "      <td>Houston Chronicle</td>\n",
              "      <td>449.755</td>\n",
              "      <td>620.752</td>\n",
              "    </tr>\n",
              "    <tr>\n",
              "      <th>11</th>\n",
              "      <td>Kansas City Star</td>\n",
              "      <td>288.571</td>\n",
              "      <td>423.305</td>\n",
              "    </tr>\n",
              "    <tr>\n",
              "      <th>12</th>\n",
              "      <td>Los Angeles Daily  News</td>\n",
              "      <td>185.736</td>\n",
              "      <td>202.614</td>\n",
              "    </tr>\n",
              "    <tr>\n",
              "      <th>13</th>\n",
              "      <td>Miami Herald</td>\n",
              "      <td>444.581</td>\n",
              "      <td>553.479</td>\n",
              "    </tr>\n",
              "    <tr>\n",
              "      <th>14</th>\n",
              "      <td>Minneapolis Star Tribune</td>\n",
              "      <td>412.871</td>\n",
              "      <td>685.975</td>\n",
              "    </tr>\n",
              "    <tr>\n",
              "      <th>15</th>\n",
              "      <td>New Orleans Times-Picayune</td>\n",
              "      <td>272.280</td>\n",
              "      <td>324.241</td>\n",
              "    </tr>\n",
              "    <tr>\n",
              "      <th>16</th>\n",
              "      <td>New York Daily News</td>\n",
              "      <td>781.796</td>\n",
              "      <td>983.240</td>\n",
              "    </tr>\n",
              "    <tr>\n",
              "      <th>17</th>\n",
              "      <td>Newsday</td>\n",
              "      <td>825.512</td>\n",
              "      <td>960.308</td>\n",
              "    </tr>\n",
              "    <tr>\n",
              "      <th>18</th>\n",
              "      <td>Omaha World Herald</td>\n",
              "      <td>223.748</td>\n",
              "      <td>284.611</td>\n",
              "    </tr>\n",
              "    <tr>\n",
              "      <th>19</th>\n",
              "      <td>Orange County Register</td>\n",
              "      <td>354.843</td>\n",
              "      <td>407.760</td>\n",
              "    </tr>\n",
              "    <tr>\n",
              "      <th>20</th>\n",
              "      <td>Philadelphia Inquirer</td>\n",
              "      <td>515.523</td>\n",
              "      <td>982.663</td>\n",
              "    </tr>\n",
              "    <tr>\n",
              "      <th>21</th>\n",
              "      <td>Pittsburgh Press</td>\n",
              "      <td>220.465</td>\n",
              "      <td>557.000</td>\n",
              "    </tr>\n",
              "    <tr>\n",
              "      <th>22</th>\n",
              "      <td>Portland Oregonian</td>\n",
              "      <td>337.672</td>\n",
              "      <td>440.923</td>\n",
              "    </tr>\n",
              "    <tr>\n",
              "      <th>23</th>\n",
              "      <td>Providence Journal-Bulletin</td>\n",
              "      <td>197.120</td>\n",
              "      <td>268.060</td>\n",
              "    </tr>\n",
              "    <tr>\n",
              "      <th>24</th>\n",
              "      <td>Rochester Democrat &amp; Chronicle</td>\n",
              "      <td>133.239</td>\n",
              "      <td>262.048</td>\n",
              "    </tr>\n",
              "    <tr>\n",
              "      <th>25</th>\n",
              "      <td>Rocky Mountain News</td>\n",
              "      <td>374.009</td>\n",
              "      <td>432.502</td>\n",
              "    </tr>\n",
              "    <tr>\n",
              "      <th>26</th>\n",
              "      <td>Sacramento Bee</td>\n",
              "      <td>273.844</td>\n",
              "      <td>338.355</td>\n",
              "    </tr>\n",
              "    <tr>\n",
              "      <th>27</th>\n",
              "      <td>San Francisco Chronicle</td>\n",
              "      <td>570.364</td>\n",
              "      <td>704.322</td>\n",
              "    </tr>\n",
              "    <tr>\n",
              "      <th>28</th>\n",
              "      <td>St. Louis Post-Dispatch</td>\n",
              "      <td>391.286</td>\n",
              "      <td>585.681</td>\n",
              "    </tr>\n",
              "    <tr>\n",
              "      <th>29</th>\n",
              "      <td>St. Paul Pioneer Press</td>\n",
              "      <td>201.860</td>\n",
              "      <td>267.781</td>\n",
              "    </tr>\n",
              "    <tr>\n",
              "      <th>30</th>\n",
              "      <td>Tampa Tribune</td>\n",
              "      <td>321.626</td>\n",
              "      <td>408.343</td>\n",
              "    </tr>\n",
              "    <tr>\n",
              "      <th>31</th>\n",
              "      <td>Washington Post</td>\n",
              "      <td>838.902</td>\n",
              "      <td>1165.567</td>\n",
              "    </tr>\n",
              "  </tbody>\n",
              "</table>\n",
              "</div>\n",
              "      <button class=\"colab-df-convert\" onclick=\"convertToInteractive('df-a665fc59-4da6-4c64-8ec2-b0a17438d848')\"\n",
              "              title=\"Convert this dataframe to an interactive table.\"\n",
              "              style=\"display:none;\">\n",
              "        \n",
              "  <svg xmlns=\"http://www.w3.org/2000/svg\" height=\"24px\"viewBox=\"0 0 24 24\"\n",
              "       width=\"24px\">\n",
              "    <path d=\"M0 0h24v24H0V0z\" fill=\"none\"/>\n",
              "    <path d=\"M18.56 5.44l.94 2.06.94-2.06 2.06-.94-2.06-.94-.94-2.06-.94 2.06-2.06.94zm-11 1L8.5 8.5l.94-2.06 2.06-.94-2.06-.94L8.5 2.5l-.94 2.06-2.06.94zm10 10l.94 2.06.94-2.06 2.06-.94-2.06-.94-.94-2.06-.94 2.06-2.06.94z\"/><path d=\"M17.41 7.96l-1.37-1.37c-.4-.4-.92-.59-1.43-.59-.52 0-1.04.2-1.43.59L10.3 9.45l-7.72 7.72c-.78.78-.78 2.05 0 2.83L4 21.41c.39.39.9.59 1.41.59.51 0 1.02-.2 1.41-.59l7.78-7.78 2.81-2.81c.8-.78.8-2.07 0-2.86zM5.41 20L4 18.59l7.72-7.72 1.47 1.35L5.41 20z\"/>\n",
              "  </svg>\n",
              "      </button>\n",
              "      \n",
              "  <style>\n",
              "    .colab-df-container {\n",
              "      display:flex;\n",
              "      flex-wrap:wrap;\n",
              "      gap: 12px;\n",
              "    }\n",
              "\n",
              "    .colab-df-convert {\n",
              "      background-color: #E8F0FE;\n",
              "      border: none;\n",
              "      border-radius: 50%;\n",
              "      cursor: pointer;\n",
              "      display: none;\n",
              "      fill: #1967D2;\n",
              "      height: 32px;\n",
              "      padding: 0 0 0 0;\n",
              "      width: 32px;\n",
              "    }\n",
              "\n",
              "    .colab-df-convert:hover {\n",
              "      background-color: #E2EBFA;\n",
              "      box-shadow: 0px 1px 2px rgba(60, 64, 67, 0.3), 0px 1px 3px 1px rgba(60, 64, 67, 0.15);\n",
              "      fill: #174EA6;\n",
              "    }\n",
              "\n",
              "    [theme=dark] .colab-df-convert {\n",
              "      background-color: #3B4455;\n",
              "      fill: #D2E3FC;\n",
              "    }\n",
              "\n",
              "    [theme=dark] .colab-df-convert:hover {\n",
              "      background-color: #434B5C;\n",
              "      box-shadow: 0px 1px 3px 1px rgba(0, 0, 0, 0.15);\n",
              "      filter: drop-shadow(0px 1px 2px rgba(0, 0, 0, 0.3));\n",
              "      fill: #FFFFFF;\n",
              "    }\n",
              "  </style>\n",
              "\n",
              "      <script>\n",
              "        const buttonEl =\n",
              "          document.querySelector('#df-a665fc59-4da6-4c64-8ec2-b0a17438d848 button.colab-df-convert');\n",
              "        buttonEl.style.display =\n",
              "          google.colab.kernel.accessAllowed ? 'block' : 'none';\n",
              "\n",
              "        async function convertToInteractive(key) {\n",
              "          const element = document.querySelector('#df-a665fc59-4da6-4c64-8ec2-b0a17438d848');\n",
              "          const dataTable =\n",
              "            await google.colab.kernel.invokeFunction('convertToInteractive',\n",
              "                                                     [key], {});\n",
              "          if (!dataTable) return;\n",
              "\n",
              "          const docLinkHtml = 'Like what you see? Visit the ' +\n",
              "            '<a target=\"_blank\" href=https://colab.research.google.com/notebooks/data_table.ipynb>data table notebook</a>'\n",
              "            + ' to learn more about interactive tables.';\n",
              "          element.innerHTML = '';\n",
              "          dataTable['output_type'] = 'display_data';\n",
              "          await google.colab.output.renderOutput(dataTable, element);\n",
              "          const docLink = document.createElement('div');\n",
              "          docLink.innerHTML = docLinkHtml;\n",
              "          element.appendChild(docLink);\n",
              "        }\n",
              "      </script>\n",
              "    </div>\n",
              "  </div>\n",
              "  "
            ],
            "text/plain": [
              "                         Newspaper    daily    sunday\n",
              "0                    Baltimore Sun  391.952   488.506\n",
              "1                     Boston Globe  516.981   798.298\n",
              "2                    Boston Herald  355.628   235.084\n",
              "3               Charlotte Observer  238.555   299.451\n",
              "4                Chicago Sun Times  537.780   559.093\n",
              "5                  Chicago Tribune  733.775  1133.249\n",
              "6              Cincinnati Enquirer  198.832   348.744\n",
              "7                      Denver Post  252.624   417.779\n",
              "8              Des Moines Register  206.204   344.522\n",
              "9                 Hartford Courant  231.177   323.084\n",
              "10               Houston Chronicle  449.755   620.752\n",
              "11                Kansas City Star  288.571   423.305\n",
              "12         Los Angeles Daily  News  185.736   202.614\n",
              "13                    Miami Herald  444.581   553.479\n",
              "14        Minneapolis Star Tribune  412.871   685.975\n",
              "15      New Orleans Times-Picayune  272.280   324.241\n",
              "16             New York Daily News  781.796   983.240\n",
              "17                         Newsday  825.512   960.308\n",
              "18              Omaha World Herald  223.748   284.611\n",
              "19          Orange County Register  354.843   407.760\n",
              "20           Philadelphia Inquirer  515.523   982.663\n",
              "21                Pittsburgh Press  220.465   557.000\n",
              "22              Portland Oregonian  337.672   440.923\n",
              "23     Providence Journal-Bulletin  197.120   268.060\n",
              "24  Rochester Democrat & Chronicle  133.239   262.048\n",
              "25             Rocky Mountain News  374.009   432.502\n",
              "26                  Sacramento Bee  273.844   338.355\n",
              "27         San Francisco Chronicle  570.364   704.322\n",
              "28         St. Louis Post-Dispatch  391.286   585.681\n",
              "29          St. Paul Pioneer Press  201.860   267.781\n",
              "30                   Tampa Tribune  321.626   408.343\n",
              "31                 Washington Post  838.902  1165.567"
            ]
          },
          "metadata": {},
          "execution_count": 34
        }
      ]
    },
    {
      "cell_type": "code",
      "source": [
        "df2.plot.density()"
      ],
      "metadata": {
        "colab": {
          "base_uri": "https://localhost:8080/",
          "height": 282
        },
        "id": "H1-Di5axy6Ek",
        "outputId": "376901cb-8241-4647-9f8f-7789fbd7cf6c"
      },
      "execution_count": 35,
      "outputs": [
        {
          "output_type": "execute_result",
          "data": {
            "text/plain": [
              "<matplotlib.axes._subplots.AxesSubplot at 0x7f8da124f6d0>"
            ]
          },
          "metadata": {},
          "execution_count": 35
        },
        {
          "output_type": "display_data",
          "data": {
            "image/png": "[encoded data removed]",
            "text/plain": [
              "<Figure size 432x288 with 1 Axes>"
            ]
          },
          "metadata": {
            "needs_background": "light"
          }
        }
      ]
    },
    {
      "cell_type": "code",
      "source": [
        "df2.corr()"
      ],
      "metadata": {
        "colab": {
          "base_uri": "https://localhost:8080/",
          "height": 112
        },
        "id": "Qszm0rJVzTQG",
        "outputId": "4f784b50-26c1-4fc6-c574-41756d340ea3"
      },
      "execution_count": 36,
      "outputs": [
        {
          "output_type": "execute_result",
          "data": {
            "text/html": [
              "\n",
              "  <div id=\"df-b418205d-90d4-43be-a2e5-139606cf422b\">\n",
              "    <div class=\"colab-df-container\">\n",
              "      <div>\n",
              "<style scoped>\n",
              "    .dataframe tbody tr th:only-of-type {\n",
              "        vertical-align: middle;\n",
              "    }\n",
              "\n",
              "    .dataframe tbody tr th {\n",
              "        vertical-align: top;\n",
              "    }\n",
              "\n",
              "    .dataframe thead th {\n",
              "        text-align: right;\n",
              "    }\n",
              "</style>\n",
              "<table border=\"1\" class=\"dataframe\">\n",
              "  <thead>\n",
              "    <tr style=\"text-align: right;\">\n",
              "      <th></th>\n",
              "      <th>daily</th>\n",
              "      <th>sunday</th>\n",
              "    </tr>\n",
              "  </thead>\n",
              "  <tbody>\n",
              "    <tr>\n",
              "      <th>daily</th>\n",
              "      <td>1.000000</td>\n",
              "      <td>0.917674</td>\n",
              "    </tr>\n",
              "    <tr>\n",
              "      <th>sunday</th>\n",
              "      <td>0.917674</td>\n",
              "      <td>1.000000</td>\n",
              "    </tr>\n",
              "  </tbody>\n",
              "</table>\n",
              "</div>\n",
              "      <button class=\"colab-df-convert\" onclick=\"convertToInteractive('df-b418205d-90d4-43be-a2e5-139606cf422b')\"\n",
              "              title=\"Convert this dataframe to an interactive table.\"\n",
              "              style=\"display:none;\">\n",
              "        \n",
              "  <svg xmlns=\"http://www.w3.org/2000/svg\" height=\"24px\"viewBox=\"0 0 24 24\"\n",
              "       width=\"24px\">\n",
              "    <path d=\"M0 0h24v24H0V0z\" fill=\"none\"/>\n",
              "    <path d=\"M18.56 5.44l.94 2.06.94-2.06 2.06-.94-2.06-.94-.94-2.06-.94 2.06-2.06.94zm-11 1L8.5 8.5l.94-2.06 2.06-.94-2.06-.94L8.5 2.5l-.94 2.06-2.06.94zm10 10l.94 2.06.94-2.06 2.06-.94-2.06-.94-.94-2.06-.94 2.06-2.06.94z\"/><path d=\"M17.41 7.96l-1.37-1.37c-.4-.4-.92-.59-1.43-.59-.52 0-1.04.2-1.43.59L10.3 9.45l-7.72 7.72c-.78.78-.78 2.05 0 2.83L4 21.41c.39.39.9.59 1.41.59.51 0 1.02-.2 1.41-.59l7.78-7.78 2.81-2.81c.8-.78.8-2.07 0-2.86zM5.41 20L4 18.59l7.72-7.72 1.47 1.35L5.41 20z\"/>\n",
              "  </svg>\n",
              "      </button>\n",
              "      \n",
              "  <style>\n",
              "    .colab-df-container {\n",
              "      display:flex;\n",
              "      flex-wrap:wrap;\n",
              "      gap: 12px;\n",
              "    }\n",
              "\n",
              "    .colab-df-convert {\n",
              "      background-color: #E8F0FE;\n",
              "      border: none;\n",
              "      border-radius: 50%;\n",
              "      cursor: pointer;\n",
              "      display: none;\n",
              "      fill: #1967D2;\n",
              "      height: 32px;\n",
              "      padding: 0 0 0 0;\n",
              "      width: 32px;\n",
              "    }\n",
              "\n",
              "    .colab-df-convert:hover {\n",
              "      background-color: #E2EBFA;\n",
              "      box-shadow: 0px 1px 2px rgba(60, 64, 67, 0.3), 0px 1px 3px 1px rgba(60, 64, 67, 0.15);\n",
              "      fill: #174EA6;\n",
              "    }\n",
              "\n",
              "    [theme=dark] .colab-df-convert {\n",
              "      background-color: #3B4455;\n",
              "      fill: #D2E3FC;\n",
              "    }\n",
              "\n",
              "    [theme=dark] .colab-df-convert:hover {\n",
              "      background-color: #434B5C;\n",
              "      box-shadow: 0px 1px 3px 1px rgba(0, 0, 0, 0.15);\n",
              "      filter: drop-shadow(0px 1px 2px rgba(0, 0, 0, 0.3));\n",
              "      fill: #FFFFFF;\n",
              "    }\n",
              "  </style>\n",
              "\n",
              "      <script>\n",
              "        const buttonEl =\n",
              "          document.querySelector('#df-b418205d-90d4-43be-a2e5-139606cf422b button.colab-df-convert');\n",
              "        buttonEl.style.display =\n",
              "          google.colab.kernel.accessAllowed ? 'block' : 'none';\n",
              "\n",
              "        async function convertToInteractive(key) {\n",
              "          const element = document.querySelector('#df-b418205d-90d4-43be-a2e5-139606cf422b');\n",
              "          const dataTable =\n",
              "            await google.colab.kernel.invokeFunction('convertToInteractive',\n",
              "                                                     [key], {});\n",
              "          if (!dataTable) return;\n",
              "\n",
              "          const docLinkHtml = 'Like what you see? Visit the ' +\n",
              "            '<a target=\"_blank\" href=https://colab.research.google.com/notebooks/data_table.ipynb>data table notebook</a>'\n",
              "            + ' to learn more about interactive tables.';\n",
              "          element.innerHTML = '';\n",
              "          dataTable['output_type'] = 'display_data';\n",
              "          await google.colab.output.renderOutput(dataTable, element);\n",
              "          const docLink = document.createElement('div');\n",
              "          docLink.innerHTML = docLinkHtml;\n",
              "          element.appendChild(docLink);\n",
              "        }\n",
              "      </script>\n",
              "    </div>\n",
              "  </div>\n",
              "  "
            ],
            "text/plain": [
              "           daily    sunday\n",
              "daily   1.000000  0.917674\n",
              "sunday  0.917674  1.000000"
            ]
          },
          "metadata": {},
          "execution_count": 36
        }
      ]
    },
    {
      "cell_type": "code",
      "source": [
        "sns.regplot(x='daily', y='sunday', data = df2)"
      ],
      "metadata": {
        "colab": {
          "base_uri": "https://localhost:8080/",
          "height": 296
        },
        "id": "Vjbb02UBzeA1",
        "outputId": "76b7d350-40d3-4dbc-b557-4bf964e715d3"
      },
      "execution_count": 37,
      "outputs": [
        {
          "output_type": "execute_result",
          "data": {
            "text/plain": [
              "<matplotlib.axes._subplots.AxesSubplot at 0x7f8d9f1d2610>"
            ]
          },
          "metadata": {},
          "execution_count": 37
        },
        {
          "output_type": "display_data",
          "data": {
            "image/png": "[encoded data removed]",
            "text/plain": [
              "<Figure size 432x288 with 1 Axes>"
            ]
          },
          "metadata": {
            "needs_background": "light"
          }
        }
      ]
    },
    {
      "cell_type": "code",
      "source": [
        "model1= smf.ols('sunday~daily', data = df2).fit()"
      ],
      "metadata": {
        "id": "Lucya55UzuAc"
      },
      "execution_count": 38,
      "outputs": []
    },
    {
      "cell_type": "code",
      "source": [
        "model1.rsquared"
      ],
      "metadata": {
        "colab": {
          "base_uri": "https://localhost:8080/"
        },
        "id": "ecFebyJ90OjM",
        "outputId": "ee74e317-fedc-4bfa-a0f3-ac1f99982002"
      },
      "execution_count": 39,
      "outputs": [
        {
          "output_type": "execute_result",
          "data": {
            "text/plain": [
              "0.8421264503596158"
            ]
          },
          "metadata": {},
          "execution_count": 39
        }
      ]
    },
    {
      "cell_type": "code",
      "source": [
        "model1.rsquared_adj"
      ],
      "metadata": {
        "colab": {
          "base_uri": "https://localhost:8080/"
        },
        "id": "-O2VWec20sXh",
        "outputId": "5daaf23c-75c8-4fae-daae-827bea5ac89c"
      },
      "execution_count": 40,
      "outputs": [
        {
          "output_type": "execute_result",
          "data": {
            "text/plain": [
              "0.8368639987049362"
            ]
          },
          "metadata": {},
          "execution_count": 40
        }
      ]
    },
    {
      "cell_type": "code",
      "source": [
        "model1.params"
      ],
      "metadata": {
        "colab": {
          "base_uri": "https://localhost:8080/"
        },
        "id": "5gm__Pny0w5R",
        "outputId": "f30584be-b046-4192-8b7f-bb7016bf6bad"
      },
      "execution_count": 41,
      "outputs": [
        {
          "output_type": "execute_result",
          "data": {
            "text/plain": [
              "Intercept    34.895607\n",
              "daily         1.277835\n",
              "dtype: float64"
            ]
          },
          "metadata": {},
          "execution_count": 41
        }
      ]
    },
    {
      "cell_type": "code",
      "source": [
        ""
      ],
      "metadata": {
        "id": "3KMy910K2AbZ"
      },
      "execution_count": 41,
      "outputs": []
    },
    {
      "cell_type": "markdown",
      "source": [
        "## After removing outliers there is difference in rsquared value from previous model, which is model 1"
      ],
      "metadata": {
        "id": "YB7T8NfR2NAd"
      }
    },
    {
      "cell_type": "markdown",
      "source": [
        "## Building model 3 by applying log transformations"
      ],
      "metadata": {
        "id": "0hoeMA_pMJdm"
      }
    },
    {
      "cell_type": "code",
      "source": [
        "def normal(series):\n",
        "  upper = series.max()\n",
        "  lower = series.min()\n",
        "  y = (series - lower)/(upper-lower)\n",
        "  return y"
      ],
      "metadata": {
        "id": "bx8kZihrMGcZ"
      },
      "execution_count": 42,
      "outputs": []
    },
    {
      "cell_type": "code",
      "source": [
        "transform = np.log(df[['daily','sunday']])"
      ],
      "metadata": {
        "id": "j0f4wrRRPrpW"
      },
      "execution_count": 43,
      "outputs": []
    },
    {
      "cell_type": "code",
      "source": [
        "transform.plot.density()"
      ],
      "metadata": {
        "colab": {
          "base_uri": "https://localhost:8080/",
          "height": 282
        },
        "id": "gZnB7g8NQO43",
        "outputId": "7183ce2f-a823-45c5-9449-007594b4a9c5"
      },
      "execution_count": 44,
      "outputs": [
        {
          "output_type": "execute_result",
          "data": {
            "text/plain": [
              "<matplotlib.axes._subplots.AxesSubplot at 0x7f8d9f15fc10>"
            ]
          },
          "metadata": {},
          "execution_count": 44
        },
        {
          "output_type": "display_data",
          "data": {
            "image/png": "[encoded data removed]",
            "text/plain": [
              "<Figure size 432x288 with 1 Axes>"
            ]
          },
          "metadata": {
            "needs_background": "light"
          }
        }
      ]
    },
    {
      "cell_type": "code",
      "source": [
        "transform1 = np.log(np.log(df[['daily','sunday']]))"
      ],
      "metadata": {
        "id": "B6ZgOpQmQi85"
      },
      "execution_count": 45,
      "outputs": []
    },
    {
      "cell_type": "code",
      "source": [
        "transform.plot.density()"
      ],
      "metadata": {
        "colab": {
          "base_uri": "https://localhost:8080/",
          "height": 282
        },
        "id": "tU44qd3bQqBh",
        "outputId": "4d9bdf92-ba71-49fc-c024-d4088d584531"
      },
      "execution_count": 46,
      "outputs": [
        {
          "output_type": "execute_result",
          "data": {
            "text/plain": [
              "<matplotlib.axes._subplots.AxesSubplot at 0x7f8d9f0e1310>"
            ]
          },
          "metadata": {},
          "execution_count": 46
        },
        {
          "output_type": "display_data",
          "data": {
            "image/png": "[encoded data removed]",
            "text/plain": [
              "<Figure size 432x288 with 1 Axes>"
            ]
          },
          "metadata": {
            "needs_background": "light"
          }
        }
      ]
    },
    {
      "cell_type": "code",
      "source": [
        "df3 = df2[:]"
      ],
      "metadata": {
        "id": "rLk3g6Hyh8L2"
      },
      "execution_count": 51,
      "outputs": []
    },
    {
      "cell_type": "code",
      "source": [
        "df3[['daily','sunday']] = np.log(df3[['daily','sunday']])"
      ],
      "metadata": {
        "id": "xpLQLwM_iBVU"
      },
      "execution_count": 52,
      "outputs": []
    },
    {
      "cell_type": "code",
      "source": [
        "df3.head()"
      ],
      "metadata": {
        "colab": {
          "base_uri": "https://localhost:8080/",
          "height": 206
        },
        "id": "LhfqViPUieEW",
        "outputId": "155dfc2e-e632-48ea-9097-50ba1b910306"
      },
      "execution_count": 53,
      "outputs": [
        {
          "output_type": "execute_result",
          "data": {
            "text/html": [
              "\n",
              "  <div id=\"df-69864f94-a850-4d5c-b557-f4a99ba4d9a7\">\n",
              "    <div class=\"colab-df-container\">\n",
              "      <div>\n",
              "<style scoped>\n",
              "    .dataframe tbody tr th:only-of-type {\n",
              "        vertical-align: middle;\n",
              "    }\n",
              "\n",
              "    .dataframe tbody tr th {\n",
              "        vertical-align: top;\n",
              "    }\n",
              "\n",
              "    .dataframe thead th {\n",
              "        text-align: right;\n",
              "    }\n",
              "</style>\n",
              "<table border=\"1\" class=\"dataframe\">\n",
              "  <thead>\n",
              "    <tr style=\"text-align: right;\">\n",
              "      <th></th>\n",
              "      <th>Newspaper</th>\n",
              "      <th>daily</th>\n",
              "      <th>sunday</th>\n",
              "    </tr>\n",
              "  </thead>\n",
              "  <tbody>\n",
              "    <tr>\n",
              "      <th>0</th>\n",
              "      <td>Baltimore Sun</td>\n",
              "      <td>5.971139</td>\n",
              "      <td>6.191352</td>\n",
              "    </tr>\n",
              "    <tr>\n",
              "      <th>1</th>\n",
              "      <td>Boston Globe</td>\n",
              "      <td>6.248006</td>\n",
              "      <td>6.682482</td>\n",
              "    </tr>\n",
              "    <tr>\n",
              "      <th>2</th>\n",
              "      <td>Boston Herald</td>\n",
              "      <td>5.873885</td>\n",
              "      <td>5.459943</td>\n",
              "    </tr>\n",
              "    <tr>\n",
              "      <th>3</th>\n",
              "      <td>Charlotte Observer</td>\n",
              "      <td>5.474600</td>\n",
              "      <td>5.701951</td>\n",
              "    </tr>\n",
              "    <tr>\n",
              "      <th>4</th>\n",
              "      <td>Chicago Sun Times</td>\n",
              "      <td>6.287450</td>\n",
              "      <td>6.326316</td>\n",
              "    </tr>\n",
              "  </tbody>\n",
              "</table>\n",
              "</div>\n",
              "      <button class=\"colab-df-convert\" onclick=\"convertToInteractive('df-69864f94-a850-4d5c-b557-f4a99ba4d9a7')\"\n",
              "              title=\"Convert this dataframe to an interactive table.\"\n",
              "              style=\"display:none;\">\n",
              "        \n",
              "  <svg xmlns=\"http://www.w3.org/2000/svg\" height=\"24px\"viewBox=\"0 0 24 24\"\n",
              "       width=\"24px\">\n",
              "    <path d=\"M0 0h24v24H0V0z\" fill=\"none\"/>\n",
              "    <path d=\"M18.56 5.44l.94 2.06.94-2.06 2.06-.94-2.06-.94-.94-2.06-.94 2.06-2.06.94zm-11 1L8.5 8.5l.94-2.06 2.06-.94-2.06-.94L8.5 2.5l-.94 2.06-2.06.94zm10 10l.94 2.06.94-2.06 2.06-.94-2.06-.94-.94-2.06-.94 2.06-2.06.94z\"/><path d=\"M17.41 7.96l-1.37-1.37c-.4-.4-.92-.59-1.43-.59-.52 0-1.04.2-1.43.59L10.3 9.45l-7.72 7.72c-.78.78-.78 2.05 0 2.83L4 21.41c.39.39.9.59 1.41.59.51 0 1.02-.2 1.41-.59l7.78-7.78 2.81-2.81c.8-.78.8-2.07 0-2.86zM5.41 20L4 18.59l7.72-7.72 1.47 1.35L5.41 20z\"/>\n",
              "  </svg>\n",
              "      </button>\n",
              "      \n",
              "  <style>\n",
              "    .colab-df-container {\n",
              "      display:flex;\n",
              "      flex-wrap:wrap;\n",
              "      gap: 12px;\n",
              "    }\n",
              "\n",
              "    .colab-df-convert {\n",
              "      background-color: #E8F0FE;\n",
              "      border: none;\n",
              "      border-radius: 50%;\n",
              "      cursor: pointer;\n",
              "      display: none;\n",
              "      fill: #1967D2;\n",
              "      height: 32px;\n",
              "      padding: 0 0 0 0;\n",
              "      width: 32px;\n",
              "    }\n",
              "\n",
              "    .colab-df-convert:hover {\n",
              "      background-color: #E2EBFA;\n",
              "      box-shadow: 0px 1px 2px rgba(60, 64, 67, 0.3), 0px 1px 3px 1px rgba(60, 64, 67, 0.15);\n",
              "      fill: #174EA6;\n",
              "    }\n",
              "\n",
              "    [theme=dark] .colab-df-convert {\n",
              "      background-color: #3B4455;\n",
              "      fill: #D2E3FC;\n",
              "    }\n",
              "\n",
              "    [theme=dark] .colab-df-convert:hover {\n",
              "      background-color: #434B5C;\n",
              "      box-shadow: 0px 1px 3px 1px rgba(0, 0, 0, 0.15);\n",
              "      filter: drop-shadow(0px 1px 2px rgba(0, 0, 0, 0.3));\n",
              "      fill: #FFFFFF;\n",
              "    }\n",
              "  </style>\n",
              "\n",
              "      <script>\n",
              "        const buttonEl =\n",
              "          document.querySelector('#df-69864f94-a850-4d5c-b557-f4a99ba4d9a7 button.colab-df-convert');\n",
              "        buttonEl.style.display =\n",
              "          google.colab.kernel.accessAllowed ? 'block' : 'none';\n",
              "\n",
              "        async function convertToInteractive(key) {\n",
              "          const element = document.querySelector('#df-69864f94-a850-4d5c-b557-f4a99ba4d9a7');\n",
              "          const dataTable =\n",
              "            await google.colab.kernel.invokeFunction('convertToInteractive',\n",
              "                                                     [key], {});\n",
              "          if (!dataTable) return;\n",
              "\n",
              "          const docLinkHtml = 'Like what you see? Visit the ' +\n",
              "            '<a target=\"_blank\" href=https://colab.research.google.com/notebooks/data_table.ipynb>data table notebook</a>'\n",
              "            + ' to learn more about interactive tables.';\n",
              "          element.innerHTML = '';\n",
              "          dataTable['output_type'] = 'display_data';\n",
              "          await google.colab.output.renderOutput(dataTable, element);\n",
              "          const docLink = document.createElement('div');\n",
              "          docLink.innerHTML = docLinkHtml;\n",
              "          element.appendChild(docLink);\n",
              "        }\n",
              "      </script>\n",
              "    </div>\n",
              "  </div>\n",
              "  "
            ],
            "text/plain": [
              "            Newspaper     daily    sunday\n",
              "0       Baltimore Sun  5.971139  6.191352\n",
              "1        Boston Globe  6.248006  6.682482\n",
              "2       Boston Herald  5.873885  5.459943\n",
              "3  Charlotte Observer  5.474600  5.701951\n",
              "4   Chicago Sun Times  6.287450  6.326316"
            ]
          },
          "metadata": {},
          "execution_count": 53
        }
      ]
    },
    {
      "cell_type": "markdown",
      "source": [
        "### checking correlation with scatter plot and matrix"
      ],
      "metadata": {
        "id": "dWOmb_slixiz"
      }
    },
    {
      "cell_type": "code",
      "source": [
        "sns.regplot(x='daily', y = 'sunday', data = df3)"
      ],
      "metadata": {
        "colab": {
          "base_uri": "https://localhost:8080/",
          "height": 296
        },
        "id": "IU_4QppyjHzb",
        "outputId": "1aa9f7d0-f176-4793-d02e-5589b961f10f"
      },
      "execution_count": 56,
      "outputs": [
        {
          "output_type": "execute_result",
          "data": {
            "text/plain": [
              "<matplotlib.axes._subplots.AxesSubplot at 0x7f8d9a1af550>"
            ]
          },
          "metadata": {},
          "execution_count": 56
        },
        {
          "output_type": "display_data",
          "data": {
            "image/png": "[encoded data removed]",
            "text/plain": [
              "<Figure size 432x288 with 1 Axes>"
            ]
          },
          "metadata": {
            "needs_background": "light"
          }
        }
      ]
    },
    {
      "cell_type": "code",
      "source": [
        "df3.corr()"
      ],
      "metadata": {
        "colab": {
          "base_uri": "https://localhost:8080/",
          "height": 112
        },
        "id": "m_Zl25vNir-t",
        "outputId": "9c36a508-5f09-41da-9dbf-f6a4ac4c7476"
      },
      "execution_count": 54,
      "outputs": [
        {
          "output_type": "execute_result",
          "data": {
            "text/html": [
              "\n",
              "  <div id=\"df-16e154cd-ef6d-4e05-85b2-38f40877cdee\">\n",
              "    <div class=\"colab-df-container\">\n",
              "      <div>\n",
              "<style scoped>\n",
              "    .dataframe tbody tr th:only-of-type {\n",
              "        vertical-align: middle;\n",
              "    }\n",
              "\n",
              "    .dataframe tbody tr th {\n",
              "        vertical-align: top;\n",
              "    }\n",
              "\n",
              "    .dataframe thead th {\n",
              "        text-align: right;\n",
              "    }\n",
              "</style>\n",
              "<table border=\"1\" class=\"dataframe\">\n",
              "  <thead>\n",
              "    <tr style=\"text-align: right;\">\n",
              "      <th></th>\n",
              "      <th>daily</th>\n",
              "      <th>sunday</th>\n",
              "    </tr>\n",
              "  </thead>\n",
              "  <tbody>\n",
              "    <tr>\n",
              "      <th>daily</th>\n",
              "      <td>1.000000</td>\n",
              "      <td>0.884655</td>\n",
              "    </tr>\n",
              "    <tr>\n",
              "      <th>sunday</th>\n",
              "      <td>0.884655</td>\n",
              "      <td>1.000000</td>\n",
              "    </tr>\n",
              "  </tbody>\n",
              "</table>\n",
              "</div>\n",
              "      <button class=\"colab-df-convert\" onclick=\"convertToInteractive('df-16e154cd-ef6d-4e05-85b2-38f40877cdee')\"\n",
              "              title=\"Convert this dataframe to an interactive table.\"\n",
              "              style=\"display:none;\">\n",
              "        \n",
              "  <svg xmlns=\"http://www.w3.org/2000/svg\" height=\"24px\"viewBox=\"0 0 24 24\"\n",
              "       width=\"24px\">\n",
              "    <path d=\"M0 0h24v24H0V0z\" fill=\"none\"/>\n",
              "    <path d=\"M18.56 5.44l.94 2.06.94-2.06 2.06-.94-2.06-.94-.94-2.06-.94 2.06-2.06.94zm-11 1L8.5 8.5l.94-2.06 2.06-.94-2.06-.94L8.5 2.5l-.94 2.06-2.06.94zm10 10l.94 2.06.94-2.06 2.06-.94-2.06-.94-.94-2.06-.94 2.06-2.06.94z\"/><path d=\"M17.41 7.96l-1.37-1.37c-.4-.4-.92-.59-1.43-.59-.52 0-1.04.2-1.43.59L10.3 9.45l-7.72 7.72c-.78.78-.78 2.05 0 2.83L4 21.41c.39.39.9.59 1.41.59.51 0 1.02-.2 1.41-.59l7.78-7.78 2.81-2.81c.8-.78.8-2.07 0-2.86zM5.41 20L4 18.59l7.72-7.72 1.47 1.35L5.41 20z\"/>\n",
              "  </svg>\n",
              "      </button>\n",
              "      \n",
              "  <style>\n",
              "    .colab-df-container {\n",
              "      display:flex;\n",
              "      flex-wrap:wrap;\n",
              "      gap: 12px;\n",
              "    }\n",
              "\n",
              "    .colab-df-convert {\n",
              "      background-color: #E8F0FE;\n",
              "      border: none;\n",
              "      border-radius: 50%;\n",
              "      cursor: pointer;\n",
              "      display: none;\n",
              "      fill: #1967D2;\n",
              "      height: 32px;\n",
              "      padding: 0 0 0 0;\n",
              "      width: 32px;\n",
              "    }\n",
              "\n",
              "    .colab-df-convert:hover {\n",
              "      background-color: #E2EBFA;\n",
              "      box-shadow: 0px 1px 2px rgba(60, 64, 67, 0.3), 0px 1px 3px 1px rgba(60, 64, 67, 0.15);\n",
              "      fill: #174EA6;\n",
              "    }\n",
              "\n",
              "    [theme=dark] .colab-df-convert {\n",
              "      background-color: #3B4455;\n",
              "      fill: #D2E3FC;\n",
              "    }\n",
              "\n",
              "    [theme=dark] .colab-df-convert:hover {\n",
              "      background-color: #434B5C;\n",
              "      box-shadow: 0px 1px 3px 1px rgba(0, 0, 0, 0.15);\n",
              "      filter: drop-shadow(0px 1px 2px rgba(0, 0, 0, 0.3));\n",
              "      fill: #FFFFFF;\n",
              "    }\n",
              "  </style>\n",
              "\n",
              "      <script>\n",
              "        const buttonEl =\n",
              "          document.querySelector('#df-16e154cd-ef6d-4e05-85b2-38f40877cdee button.colab-df-convert');\n",
              "        buttonEl.style.display =\n",
              "          google.colab.kernel.accessAllowed ? 'block' : 'none';\n",
              "\n",
              "        async function convertToInteractive(key) {\n",
              "          const element = document.querySelector('#df-16e154cd-ef6d-4e05-85b2-38f40877cdee');\n",
              "          const dataTable =\n",
              "            await google.colab.kernel.invokeFunction('convertToInteractive',\n",
              "                                                     [key], {});\n",
              "          if (!dataTable) return;\n",
              "\n",
              "          const docLinkHtml = 'Like what you see? Visit the ' +\n",
              "            '<a target=\"_blank\" href=https://colab.research.google.com/notebooks/data_table.ipynb>data table notebook</a>'\n",
              "            + ' to learn more about interactive tables.';\n",
              "          element.innerHTML = '';\n",
              "          dataTable['output_type'] = 'display_data';\n",
              "          await google.colab.output.renderOutput(dataTable, element);\n",
              "          const docLink = document.createElement('div');\n",
              "          docLink.innerHTML = docLinkHtml;\n",
              "          element.appendChild(docLink);\n",
              "        }\n",
              "      </script>\n",
              "    </div>\n",
              "  </div>\n",
              "  "
            ],
            "text/plain": [
              "           daily    sunday\n",
              "daily   1.000000  0.884655\n",
              "sunday  0.884655  1.000000"
            ]
          },
          "metadata": {},
          "execution_count": 54
        }
      ]
    },
    {
      "cell_type": "code",
      "source": [
        "#regression model\n",
        "\n",
        "model3 = smf.ols('sunday~daily', data = df3).fit()"
      ],
      "metadata": {
        "id": "obUhJIL0jW_m"
      },
      "execution_count": 57,
      "outputs": []
    },
    {
      "cell_type": "code",
      "source": [
        "model3.params"
      ],
      "metadata": {
        "colab": {
          "base_uri": "https://localhost:8080/"
        },
        "id": "0ZbaJX3Kjv4P",
        "outputId": "a580ee40-5e9e-4c16-b5c9-054a0b2fee88"
      },
      "execution_count": 59,
      "outputs": [
        {
          "output_type": "execute_result",
          "data": {
            "text/plain": [
              "Intercept    0.946032\n",
              "daily        0.891181\n",
              "dtype: float64"
            ]
          },
          "metadata": {},
          "execution_count": 59
        }
      ]
    },
    {
      "cell_type": "code",
      "source": [
        "model3.tvalues"
      ],
      "metadata": {
        "colab": {
          "base_uri": "https://localhost:8080/"
        },
        "id": "TfAPZtvUj3rC",
        "outputId": "dd0b22e6-07a6-4436-92c3-e83e23fe0aa4"
      },
      "execution_count": 60,
      "outputs": [
        {
          "output_type": "execute_result",
          "data": {
            "text/plain": [
              "Intercept     1.884308\n",
              "daily        10.392471\n",
              "dtype: float64"
            ]
          },
          "metadata": {},
          "execution_count": 60
        }
      ]
    },
    {
      "cell_type": "code",
      "source": [
        "model3.pvalues"
      ],
      "metadata": {
        "colab": {
          "base_uri": "https://localhost:8080/"
        },
        "id": "e0MkdpD_j8V2",
        "outputId": "a79d1c11-89a7-4f9d-b77b-d2b57d93d62b"
      },
      "execution_count": 62,
      "outputs": [
        {
          "output_type": "execute_result",
          "data": {
            "text/plain": [
              "Intercept    6.924603e-02\n",
              "daily        1.852509e-11\n",
              "dtype: float64"
            ]
          },
          "metadata": {},
          "execution_count": 62
        }
      ]
    },
    {
      "cell_type": "code",
      "source": [
        "model3.rsquared, model3.rsquared_adj"
      ],
      "metadata": {
        "colab": {
          "base_uri": "https://localhost:8080/"
        },
        "id": "x7bXTuuOkRNQ",
        "outputId": "ca81aeb7-4d74-4e84-8bf7-b3141e52cbee"
      },
      "execution_count": 64,
      "outputs": [
        {
          "output_type": "execute_result",
          "data": {
            "text/plain": [
              "(0.782614133449617, 0.7753679378979376)"
            ]
          },
          "metadata": {},
          "execution_count": 64
        }
      ]
    },
    {
      "cell_type": "markdown",
      "source": [
        "# Prediction with all the models"
      ],
      "metadata": {
        "id": "dluqSuQ6kz5R"
      }
    },
    {
      "cell_type": "code",
      "source": [
        "series = pd.Series([400, 600, 700])\n",
        "data = pd.DataFrame(series, columns = ['daily'])\n",
        "data['sunday'] = np.nan\n",
        "data"
      ],
      "metadata": {
        "colab": {
          "base_uri": "https://localhost:8080/",
          "height": 143
        },
        "id": "OgNYU3ngkqEe",
        "outputId": "17209304-7c66-4578-d10a-e1cbe4809f0f"
      },
      "execution_count": 73,
      "outputs": [
        {
          "output_type": "execute_result",
          "data": {
            "text/html": [
              "\n",
              "  <div id=\"df-f27ba9b9-8fd4-4ef6-b05d-0635e048e79b\">\n",
              "    <div class=\"colab-df-container\">\n",
              "      <div>\n",
              "<style scoped>\n",
              "    .dataframe tbody tr th:only-of-type {\n",
              "        vertical-align: middle;\n",
              "    }\n",
              "\n",
              "    .dataframe tbody tr th {\n",
              "        vertical-align: top;\n",
              "    }\n",
              "\n",
              "    .dataframe thead th {\n",
              "        text-align: right;\n",
              "    }\n",
              "</style>\n",
              "<table border=\"1\" class=\"dataframe\">\n",
              "  <thead>\n",
              "    <tr style=\"text-align: right;\">\n",
              "      <th></th>\n",
              "      <th>daily</th>\n",
              "      <th>sunday</th>\n",
              "    </tr>\n",
              "  </thead>\n",
              "  <tbody>\n",
              "    <tr>\n",
              "      <th>0</th>\n",
              "      <td>400</td>\n",
              "      <td>NaN</td>\n",
              "    </tr>\n",
              "    <tr>\n",
              "      <th>1</th>\n",
              "      <td>600</td>\n",
              "      <td>NaN</td>\n",
              "    </tr>\n",
              "    <tr>\n",
              "      <th>2</th>\n",
              "      <td>700</td>\n",
              "      <td>NaN</td>\n",
              "    </tr>\n",
              "  </tbody>\n",
              "</table>\n",
              "</div>\n",
              "      <button class=\"colab-df-convert\" onclick=\"convertToInteractive('df-f27ba9b9-8fd4-4ef6-b05d-0635e048e79b')\"\n",
              "              title=\"Convert this dataframe to an interactive table.\"\n",
              "              style=\"display:none;\">\n",
              "        \n",
              "  <svg xmlns=\"http://www.w3.org/2000/svg\" height=\"24px\"viewBox=\"0 0 24 24\"\n",
              "       width=\"24px\">\n",
              "    <path d=\"M0 0h24v24H0V0z\" fill=\"none\"/>\n",
              "    <path d=\"M18.56 5.44l.94 2.06.94-2.06 2.06-.94-2.06-.94-.94-2.06-.94 2.06-2.06.94zm-11 1L8.5 8.5l.94-2.06 2.06-.94-2.06-.94L8.5 2.5l-.94 2.06-2.06.94zm10 10l.94 2.06.94-2.06 2.06-.94-2.06-.94-.94-2.06-.94 2.06-2.06.94z\"/><path d=\"M17.41 7.96l-1.37-1.37c-.4-.4-.92-.59-1.43-.59-.52 0-1.04.2-1.43.59L10.3 9.45l-7.72 7.72c-.78.78-.78 2.05 0 2.83L4 21.41c.39.39.9.59 1.41.59.51 0 1.02-.2 1.41-.59l7.78-7.78 2.81-2.81c.8-.78.8-2.07 0-2.86zM5.41 20L4 18.59l7.72-7.72 1.47 1.35L5.41 20z\"/>\n",
              "  </svg>\n",
              "      </button>\n",
              "      \n",
              "  <style>\n",
              "    .colab-df-container {\n",
              "      display:flex;\n",
              "      flex-wrap:wrap;\n",
              "      gap: 12px;\n",
              "    }\n",
              "\n",
              "    .colab-df-convert {\n",
              "      background-color: #E8F0FE;\n",
              "      border: none;\n",
              "      border-radius: 50%;\n",
              "      cursor: pointer;\n",
              "      display: none;\n",
              "      fill: #1967D2;\n",
              "      height: 32px;\n",
              "      padding: 0 0 0 0;\n",
              "      width: 32px;\n",
              "    }\n",
              "\n",
              "    .colab-df-convert:hover {\n",
              "      background-color: #E2EBFA;\n",
              "      box-shadow: 0px 1px 2px rgba(60, 64, 67, 0.3), 0px 1px 3px 1px rgba(60, 64, 67, 0.15);\n",
              "      fill: #174EA6;\n",
              "    }\n",
              "\n",
              "    [theme=dark] .colab-df-convert {\n",
              "      background-color: #3B4455;\n",
              "      fill: #D2E3FC;\n",
              "    }\n",
              "\n",
              "    [theme=dark] .colab-df-convert:hover {\n",
              "      background-color: #434B5C;\n",
              "      box-shadow: 0px 1px 3px 1px rgba(0, 0, 0, 0.15);\n",
              "      filter: drop-shadow(0px 1px 2px rgba(0, 0, 0, 0.3));\n",
              "      fill: #FFFFFF;\n",
              "    }\n",
              "  </style>\n",
              "\n",
              "      <script>\n",
              "        const buttonEl =\n",
              "          document.querySelector('#df-f27ba9b9-8fd4-4ef6-b05d-0635e048e79b button.colab-df-convert');\n",
              "        buttonEl.style.display =\n",
              "          google.colab.kernel.accessAllowed ? 'block' : 'none';\n",
              "\n",
              "        async function convertToInteractive(key) {\n",
              "          const element = document.querySelector('#df-f27ba9b9-8fd4-4ef6-b05d-0635e048e79b');\n",
              "          const dataTable =\n",
              "            await google.colab.kernel.invokeFunction('convertToInteractive',\n",
              "                                                     [key], {});\n",
              "          if (!dataTable) return;\n",
              "\n",
              "          const docLinkHtml = 'Like what you see? Visit the ' +\n",
              "            '<a target=\"_blank\" href=https://colab.research.google.com/notebooks/data_table.ipynb>data table notebook</a>'\n",
              "            + ' to learn more about interactive tables.';\n",
              "          element.innerHTML = '';\n",
              "          dataTable['output_type'] = 'display_data';\n",
              "          await google.colab.output.renderOutput(dataTable, element);\n",
              "          const docLink = document.createElement('div');\n",
              "          docLink.innerHTML = docLinkHtml;\n",
              "          element.appendChild(docLink);\n",
              "        }\n",
              "      </script>\n",
              "    </div>\n",
              "  </div>\n",
              "  "
            ],
            "text/plain": [
              "   daily  sunday\n",
              "0    400     NaN\n",
              "1    600     NaN\n",
              "2    700     NaN"
            ]
          },
          "metadata": {},
          "execution_count": 73
        }
      ]
    },
    {
      "cell_type": "code",
      "source": [
        "model.fit().predict(data)"
      ],
      "metadata": {
        "colab": {
          "base_uri": "https://localhost:8080/"
        },
        "id": "EGoQRZV7l1dd",
        "outputId": "1eabffc9-d230-4716-d6f4-8cfbbac0ea36"
      },
      "execution_count": 80,
      "outputs": [
        {
          "output_type": "execute_result",
          "data": {
            "text/plain": [
              "0    549.721533\n",
              "1    817.664485\n",
              "2    951.635960\n",
              "dtype: float64"
            ]
          },
          "metadata": {},
          "execution_count": 80
        }
      ]
    },
    {
      "cell_type": "code",
      "source": [
        "model1.predict(data)"
      ],
      "metadata": {
        "colab": {
          "base_uri": "https://localhost:8080/"
        },
        "id": "5kxfsaTNmKFb",
        "outputId": "edfde11a-2d88-405c-e749-10f45311d7d0"
      },
      "execution_count": 78,
      "outputs": [
        {
          "output_type": "execute_result",
          "data": {
            "text/plain": [
              "0    546.029697\n",
              "1    801.596742\n",
              "2    929.380265\n",
              "dtype: float64"
            ]
          },
          "metadata": {},
          "execution_count": 78
        }
      ]
    },
    {
      "cell_type": "code",
      "source": [
        "model3.predict(data)"
      ],
      "metadata": {
        "colab": {
          "base_uri": "https://localhost:8080/"
        },
        "id": "IyoWGfI_mell",
        "outputId": "f87ddf28-248c-45cd-a8fc-d56eeb7c9a06"
      },
      "execution_count": 81,
      "outputs": [
        {
          "output_type": "execute_result",
          "data": {
            "text/plain": [
              "0    357.418520\n",
              "1    535.654765\n",
              "2    624.772887\n",
              "dtype: float64"
            ]
          },
          "metadata": {},
          "execution_count": 81
        }
      ]
    },
    {
      "cell_type": "markdown",
      "source": [
        "### **As outliers were removed accuracy of the model reduced and since it is a right skewed data log transformation was done. Due to which accuracy reduced even**"
      ],
      "metadata": {
        "id": "q98bjiSynHg1"
      }
    },
    {
      "cell_type": "code",
      "source": [
        ""
      ],
      "metadata": {
        "id": "WqbTZg2wm9Hg"
      },
      "execution_count": null,
      "outputs": []
    }
  ]
}